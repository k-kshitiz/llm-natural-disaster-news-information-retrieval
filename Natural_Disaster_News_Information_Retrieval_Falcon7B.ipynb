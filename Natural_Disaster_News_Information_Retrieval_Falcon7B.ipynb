{
  "nbformat": 4,
  "nbformat_minor": 0,
  "metadata": {
    "colab": {
      "provenance": [],
      "gpuType": "T4",
      "machine_shape": "hm"
    },
    "kernelspec": {
      "name": "python3",
      "display_name": "Python 3"
    },
    "language_info": {
      "name": "python"
    },
    "widgets": {
      "application/vnd.jupyter.widget-state+json": {
        "cdd5160b875e4e32aa08e1b5c44c9553": {
          "model_module": "@jupyter-widgets/controls",
          "model_name": "HBoxModel",
          "model_module_version": "1.5.0",
          "state": {
            "_dom_classes": [],
            "_model_module": "@jupyter-widgets/controls",
            "_model_module_version": "1.5.0",
            "_model_name": "HBoxModel",
            "_view_count": null,
            "_view_module": "@jupyter-widgets/controls",
            "_view_module_version": "1.5.0",
            "_view_name": "HBoxView",
            "box_style": "",
            "children": [
              "IPY_MODEL_dddf95c5dc6a4ab481463db47dc1e682",
              "IPY_MODEL_012f4cea39ed46429a98ff24d5e3d1aa",
              "IPY_MODEL_097eeba944b14a4e9c765d34f37b5fc9"
            ],
            "layout": "IPY_MODEL_c3d8e2388eb34bf39173adc2a31682de"
          }
        },
        "dddf95c5dc6a4ab481463db47dc1e682": {
          "model_module": "@jupyter-widgets/controls",
          "model_name": "HTMLModel",
          "model_module_version": "1.5.0",
          "state": {
            "_dom_classes": [],
            "_model_module": "@jupyter-widgets/controls",
            "_model_module_version": "1.5.0",
            "_model_name": "HTMLModel",
            "_view_count": null,
            "_view_module": "@jupyter-widgets/controls",
            "_view_module_version": "1.5.0",
            "_view_name": "HTMLView",
            "description": "",
            "description_tooltip": null,
            "layout": "IPY_MODEL_6e8516544be84f82ab89fea8296fd404",
            "placeholder": "​",
            "style": "IPY_MODEL_1097b15e2c9346b79f94f9ff8e689769",
            "value": "Loading checkpoint shards: 100%"
          }
        },
        "012f4cea39ed46429a98ff24d5e3d1aa": {
          "model_module": "@jupyter-widgets/controls",
          "model_name": "FloatProgressModel",
          "model_module_version": "1.5.0",
          "state": {
            "_dom_classes": [],
            "_model_module": "@jupyter-widgets/controls",
            "_model_module_version": "1.5.0",
            "_model_name": "FloatProgressModel",
            "_view_count": null,
            "_view_module": "@jupyter-widgets/controls",
            "_view_module_version": "1.5.0",
            "_view_name": "ProgressView",
            "bar_style": "success",
            "description": "",
            "description_tooltip": null,
            "layout": "IPY_MODEL_c50dc796cf484e17ba963ad50d553371",
            "max": 2,
            "min": 0,
            "orientation": "horizontal",
            "style": "IPY_MODEL_560c5f4ab02e41ec8c37b7fec6dec684",
            "value": 2
          }
        },
        "097eeba944b14a4e9c765d34f37b5fc9": {
          "model_module": "@jupyter-widgets/controls",
          "model_name": "HTMLModel",
          "model_module_version": "1.5.0",
          "state": {
            "_dom_classes": [],
            "_model_module": "@jupyter-widgets/controls",
            "_model_module_version": "1.5.0",
            "_model_name": "HTMLModel",
            "_view_count": null,
            "_view_module": "@jupyter-widgets/controls",
            "_view_module_version": "1.5.0",
            "_view_name": "HTMLView",
            "description": "",
            "description_tooltip": null,
            "layout": "IPY_MODEL_27234efa9ced42dc8892f880dc3ffc94",
            "placeholder": "​",
            "style": "IPY_MODEL_0340a63170114a358913fa2f257b847d",
            "value": " 2/2 [01:24&lt;00:00, 39.64s/it]"
          }
        },
        "c3d8e2388eb34bf39173adc2a31682de": {
          "model_module": "@jupyter-widgets/base",
          "model_name": "LayoutModel",
          "model_module_version": "1.2.0",
          "state": {
            "_model_module": "@jupyter-widgets/base",
            "_model_module_version": "1.2.0",
            "_model_name": "LayoutModel",
            "_view_count": null,
            "_view_module": "@jupyter-widgets/base",
            "_view_module_version": "1.2.0",
            "_view_name": "LayoutView",
            "align_content": null,
            "align_items": null,
            "align_self": null,
            "border": null,
            "bottom": null,
            "display": null,
            "flex": null,
            "flex_flow": null,
            "grid_area": null,
            "grid_auto_columns": null,
            "grid_auto_flow": null,
            "grid_auto_rows": null,
            "grid_column": null,
            "grid_gap": null,
            "grid_row": null,
            "grid_template_areas": null,
            "grid_template_columns": null,
            "grid_template_rows": null,
            "height": null,
            "justify_content": null,
            "justify_items": null,
            "left": null,
            "margin": null,
            "max_height": null,
            "max_width": null,
            "min_height": null,
            "min_width": null,
            "object_fit": null,
            "object_position": null,
            "order": null,
            "overflow": null,
            "overflow_x": null,
            "overflow_y": null,
            "padding": null,
            "right": null,
            "top": null,
            "visibility": null,
            "width": null
          }
        },
        "6e8516544be84f82ab89fea8296fd404": {
          "model_module": "@jupyter-widgets/base",
          "model_name": "LayoutModel",
          "model_module_version": "1.2.0",
          "state": {
            "_model_module": "@jupyter-widgets/base",
            "_model_module_version": "1.2.0",
            "_model_name": "LayoutModel",
            "_view_count": null,
            "_view_module": "@jupyter-widgets/base",
            "_view_module_version": "1.2.0",
            "_view_name": "LayoutView",
            "align_content": null,
            "align_items": null,
            "align_self": null,
            "border": null,
            "bottom": null,
            "display": null,
            "flex": null,
            "flex_flow": null,
            "grid_area": null,
            "grid_auto_columns": null,
            "grid_auto_flow": null,
            "grid_auto_rows": null,
            "grid_column": null,
            "grid_gap": null,
            "grid_row": null,
            "grid_template_areas": null,
            "grid_template_columns": null,
            "grid_template_rows": null,
            "height": null,
            "justify_content": null,
            "justify_items": null,
            "left": null,
            "margin": null,
            "max_height": null,
            "max_width": null,
            "min_height": null,
            "min_width": null,
            "object_fit": null,
            "object_position": null,
            "order": null,
            "overflow": null,
            "overflow_x": null,
            "overflow_y": null,
            "padding": null,
            "right": null,
            "top": null,
            "visibility": null,
            "width": null
          }
        },
        "1097b15e2c9346b79f94f9ff8e689769": {
          "model_module": "@jupyter-widgets/controls",
          "model_name": "DescriptionStyleModel",
          "model_module_version": "1.5.0",
          "state": {
            "_model_module": "@jupyter-widgets/controls",
            "_model_module_version": "1.5.0",
            "_model_name": "DescriptionStyleModel",
            "_view_count": null,
            "_view_module": "@jupyter-widgets/base",
            "_view_module_version": "1.2.0",
            "_view_name": "StyleView",
            "description_width": ""
          }
        },
        "c50dc796cf484e17ba963ad50d553371": {
          "model_module": "@jupyter-widgets/base",
          "model_name": "LayoutModel",
          "model_module_version": "1.2.0",
          "state": {
            "_model_module": "@jupyter-widgets/base",
            "_model_module_version": "1.2.0",
            "_model_name": "LayoutModel",
            "_view_count": null,
            "_view_module": "@jupyter-widgets/base",
            "_view_module_version": "1.2.0",
            "_view_name": "LayoutView",
            "align_content": null,
            "align_items": null,
            "align_self": null,
            "border": null,
            "bottom": null,
            "display": null,
            "flex": null,
            "flex_flow": null,
            "grid_area": null,
            "grid_auto_columns": null,
            "grid_auto_flow": null,
            "grid_auto_rows": null,
            "grid_column": null,
            "grid_gap": null,
            "grid_row": null,
            "grid_template_areas": null,
            "grid_template_columns": null,
            "grid_template_rows": null,
            "height": null,
            "justify_content": null,
            "justify_items": null,
            "left": null,
            "margin": null,
            "max_height": null,
            "max_width": null,
            "min_height": null,
            "min_width": null,
            "object_fit": null,
            "object_position": null,
            "order": null,
            "overflow": null,
            "overflow_x": null,
            "overflow_y": null,
            "padding": null,
            "right": null,
            "top": null,
            "visibility": null,
            "width": null
          }
        },
        "560c5f4ab02e41ec8c37b7fec6dec684": {
          "model_module": "@jupyter-widgets/controls",
          "model_name": "ProgressStyleModel",
          "model_module_version": "1.5.0",
          "state": {
            "_model_module": "@jupyter-widgets/controls",
            "_model_module_version": "1.5.0",
            "_model_name": "ProgressStyleModel",
            "_view_count": null,
            "_view_module": "@jupyter-widgets/base",
            "_view_module_version": "1.2.0",
            "_view_name": "StyleView",
            "bar_color": null,
            "description_width": ""
          }
        },
        "27234efa9ced42dc8892f880dc3ffc94": {
          "model_module": "@jupyter-widgets/base",
          "model_name": "LayoutModel",
          "model_module_version": "1.2.0",
          "state": {
            "_model_module": "@jupyter-widgets/base",
            "_model_module_version": "1.2.0",
            "_model_name": "LayoutModel",
            "_view_count": null,
            "_view_module": "@jupyter-widgets/base",
            "_view_module_version": "1.2.0",
            "_view_name": "LayoutView",
            "align_content": null,
            "align_items": null,
            "align_self": null,
            "border": null,
            "bottom": null,
            "display": null,
            "flex": null,
            "flex_flow": null,
            "grid_area": null,
            "grid_auto_columns": null,
            "grid_auto_flow": null,
            "grid_auto_rows": null,
            "grid_column": null,
            "grid_gap": null,
            "grid_row": null,
            "grid_template_areas": null,
            "grid_template_columns": null,
            "grid_template_rows": null,
            "height": null,
            "justify_content": null,
            "justify_items": null,
            "left": null,
            "margin": null,
            "max_height": null,
            "max_width": null,
            "min_height": null,
            "min_width": null,
            "object_fit": null,
            "object_position": null,
            "order": null,
            "overflow": null,
            "overflow_x": null,
            "overflow_y": null,
            "padding": null,
            "right": null,
            "top": null,
            "visibility": null,
            "width": null
          }
        },
        "0340a63170114a358913fa2f257b847d": {
          "model_module": "@jupyter-widgets/controls",
          "model_name": "DescriptionStyleModel",
          "model_module_version": "1.5.0",
          "state": {
            "_model_module": "@jupyter-widgets/controls",
            "_model_module_version": "1.5.0",
            "_model_name": "DescriptionStyleModel",
            "_view_count": null,
            "_view_module": "@jupyter-widgets/base",
            "_view_module_version": "1.2.0",
            "_view_name": "StyleView",
            "description_width": ""
          }
        }
      }
    },
    "accelerator": "GPU"
  },
  "cells": [
    {
      "cell_type": "markdown",
      "source": [
        "# Using LLM for Information Retrieval from Natural Disaster News\n",
        "\n",
        "**Author: [Kshitiz Sahay](https://www.linkedin.com/in/k-kshitiz26/)**\n",
        "\n",
        "**Blog: [Using LLM for Information Retreival from Natural Disaster News](https://medium.com/@kshitiz.sahay26/using-llm-for-information-retrieval-from-news-articles-5bbfb16f5625)**\n",
        "\n",
        "In this notebook, I have built a simple yet efficient end-to-end information retrieval tool for extracting data points from news articles related to natural disaster events, utilizing the **Falcon-7B-Instruct** model. These extracted data points could serve various downstream tasks, including:\n",
        "\n",
        "*   Conducting impact analyses of natural disasters\n",
        "*   Utilizing them as features in machine learning models to predict disaster risk\n",
        "*   Creating new open or commercial datasets\n",
        "\n",
        "Furthermore, I've expanded on the above functionalities by developing a conversational chatbot using `langchain`, a popular framework for developing LLM applications. This chatbot incorporates measures to mitigate out-of-context text generation and ensure memory retention, facilitating smooth and coherent conversations while effectively extracting information from news articles. These conversational chatbots hold the potential for integration with extensive analytical systems and data warehouses that house both structured and unstructured data. This integration enables streamlined knowledge extraction processes, making it easier to extract valuable insights from the available data.\n",
        "\n",
        "Although Falcon-40B-Instruct outperforms its 7B variant significantly, it necessitates powerful GPUs and extensive memory. Nonetheless, Falcon-7B-Instruct has performed impressively in accomplishing the given task. It remains a valuable option for fast prototyping, especially when dealing with limited compute resources.\n",
        "\n",
        "\n",
        "\n",
        "---\n",
        "\n",
        "Note that running this on a CPU is practically impossible. If running on Google Colab, go to **Runtime** > **Change runtime type**. Change **Hardware accelarator** to **GPU**. Change **GPU type** to **T4**. Change **Runtime shape** to **High-RAM**.\n",
        "\n",
        "---\n",
        "\n",
        "Let's get started."
      ],
      "metadata": {
        "id": "kmgrsILLWWF6"
      }
    },
    {
      "cell_type": "markdown",
      "source": [
        "### Checking GPU Memory Usage"
      ],
      "metadata": {
        "id": "SQu3nJU_Tccl"
      }
    },
    {
      "cell_type": "code",
      "source": [
        "!nvidia-smi"
      ],
      "metadata": {
        "colab": {
          "base_uri": "https://localhost:8080/"
        },
        "id": "O0LRB2uIS_Bl",
        "outputId": "98bf4a0e-b91e-4635-da1f-3d8f9472d019"
      },
      "execution_count": null,
      "outputs": [
        {
          "output_type": "stream",
          "name": "stdout",
          "text": [
            "Mon Jul 24 16:10:59 2023       \n",
            "+-----------------------------------------------------------------------------+\n",
            "| NVIDIA-SMI 525.105.17   Driver Version: 525.105.17   CUDA Version: 12.0     |\n",
            "|-------------------------------+----------------------+----------------------+\n",
            "| GPU  Name        Persistence-M| Bus-Id        Disp.A | Volatile Uncorr. ECC |\n",
            "| Fan  Temp  Perf  Pwr:Usage/Cap|         Memory-Usage | GPU-Util  Compute M. |\n",
            "|                               |                      |               MIG M. |\n",
            "|===============================+======================+======================|\n",
            "|   0  Tesla T4            Off  | 00000000:00:04.0 Off |                    0 |\n",
            "| N/A   61C    P8    10W /  70W |      0MiB / 15360MiB |      0%      Default |\n",
            "|                               |                      |                  N/A |\n",
            "+-------------------------------+----------------------+----------------------+\n",
            "                                                                               \n",
            "+-----------------------------------------------------------------------------+\n",
            "| Processes:                                                                  |\n",
            "|  GPU   GI   CI        PID   Type   Process name                  GPU Memory |\n",
            "|        ID   ID                                                   Usage      |\n",
            "|=============================================================================|\n",
            "|  No running processes found                                                 |\n",
            "+-----------------------------------------------------------------------------+\n"
          ]
        }
      ]
    },
    {
      "cell_type": "markdown",
      "source": [
        "### Installing Required Libraries\n",
        "\n",
        "I have installed the latest versions of several libraries to create a question-answering information retrieval tool using the Falcon-7B-Instruct model.\n",
        "\n",
        "Side notes on some of the libraries used:\n",
        "\n",
        "`transformers` will allow loading the Falcon-7B-Instruct model, its tokenizer, and creating a pipeline for inference.\n",
        "\n",
        "`bitsandbytes` will allow loading the model in 8-bit.\n",
        "\n",
        "`xformers` will allow faster inference.\n",
        "\n",
        "`langchain` will allow creating a conversation chain and enable memory inclusion for the chatbot."
      ],
      "metadata": {
        "id": "Ekd8-RJpTKdd"
      }
    },
    {
      "cell_type": "code",
      "source": [
        "!pip install -Uqqq pip --progress-bar off\n",
        "!pip install -qqq bitsandbytes==0.40.0 --progress-bar off\n",
        "!pip install -qqq torch==2.0.1 --progress-bar off\n",
        "!pip install -qqq transformers==4.30.0 --progress-bar off\n",
        "!pip install -qqq accelerate==0.20.1 --progress-bar off\n",
        "!pip install -qqq xformers==0.0.20 --progress-bar off\n",
        "!pip install -qqq einops==0.6.1 --progress-bar off\n",
        "!pip install -qqq langchain==0.0.233 --progress-bar off"
      ],
      "metadata": {
        "colab": {
          "base_uri": "https://localhost:8080/"
        },
        "id": "jVDUz31RS_cU",
        "outputId": "83ff20c5-c24c-463b-e4d7-7fea7ca9c133"
      },
      "execution_count": null,
      "outputs": [
        {
          "output_type": "stream",
          "name": "stdout",
          "text": [
            "\u001b[33mWARNING: Running pip as the 'root' user can result in broken permissions and conflicting behaviour with the system package manager. It is recommended to use a virtual environment instead: https://pip.pypa.io/warnings/venv\u001b[0m\u001b[33m\n",
            "\u001b[0m\u001b[33mWARNING: Running pip as the 'root' user can result in broken permissions and conflicting behaviour with the system package manager. It is recommended to use a virtual environment instead: https://pip.pypa.io/warnings/venv\u001b[0m\u001b[33m\n",
            "\u001b[0m\u001b[33mWARNING: Running pip as the 'root' user can result in broken permissions and conflicting behaviour with the system package manager. It is recommended to use a virtual environment instead: https://pip.pypa.io/warnings/venv\u001b[0m\u001b[33m\n",
            "\u001b[0m\u001b[33mWARNING: Running pip as the 'root' user can result in broken permissions and conflicting behaviour with the system package manager. It is recommended to use a virtual environment instead: https://pip.pypa.io/warnings/venv\u001b[0m\u001b[33m\n",
            "\u001b[0m\u001b[33mWARNING: Running pip as the 'root' user can result in broken permissions and conflicting behaviour with the system package manager. It is recommended to use a virtual environment instead: https://pip.pypa.io/warnings/venv\u001b[0m\u001b[33m\n",
            "\u001b[0m\u001b[33mWARNING: Running pip as the 'root' user can result in broken permissions and conflicting behaviour with the system package manager. It is recommended to use a virtual environment instead: https://pip.pypa.io/warnings/venv\u001b[0m\u001b[33m\n",
            "\u001b[0m\u001b[33mWARNING: Running pip as the 'root' user can result in broken permissions and conflicting behaviour with the system package manager. It is recommended to use a virtual environment instead: https://pip.pypa.io/warnings/venv\u001b[0m\u001b[33m\n",
            "\u001b[0m\u001b[33mWARNING: Running pip as the 'root' user can result in broken permissions and conflicting behaviour with the system package manager. It is recommended to use a virtual environment instead: https://pip.pypa.io/warnings/venv\u001b[0m\u001b[33m\n",
            "\u001b[0m"
          ]
        }
      ]
    },
    {
      "cell_type": "markdown",
      "source": [
        "### Loading Required Libraries\n",
        "\n",
        "Side notes on some of the imported classes:\n",
        "\n",
        "`StoppingCriteria` and `StoppingCriteriaList` will allow detecting the start of out-of-context text generation and stopping its generation.\n",
        "\n",
        "`PromptTemplate` will allow creating custom prompt templates for chatbot conversations.\n",
        "\n",
        "`ConversationChain` will allow creating conversation chains using a prompt template and querying against the LLM.\n",
        "\n",
        "`ConversationBufferWindowMemory` will allow holding recent messages as memory.\n",
        "\n",
        "`BaseOutputParser` will allow cleaning the response to remove any unwanted tokens."
      ],
      "metadata": {
        "id": "x3YFqVYMThJF"
      }
    },
    {
      "cell_type": "code",
      "source": [
        "import re\n",
        "import warnings\n",
        "from typing import List\n",
        "\n",
        "import pandas as pd\n",
        "import torch\n",
        "from transformers import AutoModelForCausalLM, AutoTokenizer, StoppingCriteria, StoppingCriteriaList, pipeline\n",
        "from langchain import PromptTemplate\n",
        "from langchain.chains import ConversationChain\n",
        "from langchain.chains.conversation.memory import ConversationBufferWindowMemory\n",
        "from langchain.llms import HuggingFacePipeline\n",
        "from langchain.schema import BaseOutputParser\n",
        "warnings.filterwarnings(\"ignore\")"
      ],
      "metadata": {
        "id": "cMzyXtLlTCGQ"
      },
      "execution_count": null,
      "outputs": []
    },
    {
      "cell_type": "markdown",
      "source": [
        "### Data Preparation\n",
        "\n",
        "As I don't have access to an existing dataset on hurricane news, I've decided to create a sample dataset using `Pandas DataFrame` to quickly develop this prototype. The dataset consists of `news_title` and `news_body` columns. However, you can use your own dataset, provided it is loaded into a `Pandas DataFrame`, containing news articles or any other unstructured texts."
      ],
      "metadata": {
        "id": "eKUSaO1jTuTk"
      }
    },
    {
      "cell_type": "code",
      "source": [
        "# Creating news title and body lists\n",
        "\n",
        "news_title_1 = \"First Hurricane of 2023 arrives ahead of schedule\"\n",
        "\n",
        "news_body_1 = \"\"\"Hurricane Don is the first Hurricane of the 2023 season.\n",
        "\n",
        "COLUMBIA, S.C. — Don will not go away; as it turns out, it has become the first hurricane of the 2023 Hurricane season.\n",
        "\n",
        "The National Hurricane Center said Saturday afternoon that Don had reached hurricane status with wind speeds of 75 mph. The storm, which has been in the Northern Atlantic, is expected to stay out at sea, so no impacts are expected in the US.\n",
        "\n",
        "This is a bit ahead of schedule for a typical season, as our average first hurricane typically forms in August. Even with El Nino creating an overall hostile environment for storm development, record Atlantic Ocean temperatures will provide plenty of energy for storms that do form.\n",
        "\n",
        "Looking elsewhere, Tropical Invest 95-L has been given a medium chance by the NHC of developing into a tropical system in the coming week. The current setup should keep the area of low pressure well south. If anything develops, the storm's motion could change, but the chances of US impacts look relatively low at this point.\n",
        "\n",
        "Looking past next week, the Climate Prediction Center is expecting elevated amounts of rain in the tropics. This could be a sign of somewhat favorable conditions for tropical development. Models are very spread on the outlooks ahead, with some tropical waves trying to develop in the coming weeks. This means that we will likely have to watch things over the next seven days to see how things trend, but as for a specific forecast, we will be unable to say for now.\"\"\"\n",
        "\n",
        "news_title_2 = \"Hurricane Ian: Florida death toll rises as criticism mounts\"\n",
        "\n",
        "news_body_2 = \"\"\"The death toll from Hurricane Ian has reportedly risen to nearly 100 in Florida as rescue personnel continue to search for survivors.\n",
        "\n",
        "Officials in the US state have come under fire as critics allege residents in some hard-hit areas did not receive enough advance warning to evacuate.\n",
        "\n",
        "More than half of the deaths recorded are in Lee County, where Ian made landfall as a Category 4 hurricane.\n",
        "\n",
        "President Joe Biden is expected to visit Florida on Wednesday.\n",
        "\n",
        "On Monday, Mr Biden visited Puerto Rico - which was struck by Hurricane Fiona just days before Ian struck Florida - where he promised $60m (£53m) in aid to help the US territory.\n",
        "\n",
        "\"We're going to make sure you get every single dollar promised,\" he said in the municipality of Ponce, parts of which were still without power.\n",
        "\n",
        "According to the BBC's US partner network CBS, the hurricane's death toll in Florida climbed to at least 99 on Monday night. Another four deaths have been confirmed in North Carolina.\n",
        "\n",
        "Florida officials said the latest death toll is at least 68. The figures differ as while local officials may report additional storm-related deaths, the medical examiner's officer is only attributing a death to the hurricane after an autopsy is performed.\n",
        "\n",
        "The majority of the deaths - 55 - have been reported in Lee County, which includes the hard-hit areas Fort Myers, Sanibel and Pine Island, Sheriff Carmine Marceno said at a news conference.\n",
        "\n",
        "Mr Marceno said access to Fort Myers Beach was being restricted to allow authorities to investigate deaths and to preserve potential crime scenes. He added that four arrests had been made after looting incidents were reported.\n",
        "\n",
        "On Friday, Florida governor Ron DeSantis described the county as \"ground zero\" for the hurricane.\n",
        "\n",
        "Confusion over death tolls is common in the wake of hurricanes. In 2020, for example, fewer than 20 deaths were reported from Hurricane Laura days after it made landfall in Louisiana - a figure which the National Hurricane Center later revised to 47.\n",
        "\n",
        "While the death toll from Hurricane Ian already makes it one of the deadliest hurricanes in recent memory, it still pales in comparison to 2005's Hurricane Katrina, which killed more than 1,800 people, and 2017's Hurricane Maria, which killed nearly 3,000.\n",
        "\n",
        "In the wake of the storm, officials in Lee County have faced questions about the timing of their evacuation order, which was issued on 27 September, less than 24 hours before Ian made landfall. Several other counties in the path of the incoming hurricane issued their own evacuation orders a day before.\n",
        "\n",
        "Local officials, as well as Florida's Governor Ron DeSantis, have defended Lee County's preparations for the hurricane.\n",
        "\n",
        "\"Everyone wants to focus on a plan that might have been done differently,\" Mr Marceno said on Sunday. \"I stand 100% with my county commissioners, my county manager. We did what we had to do at the exact same time. I wouldn't have changed anything.\"\n",
        "\n",
        "A 2015 planning document on the official website of Lee County's government notes that \"due to our large population and limited system, Southwest Florida is the hardest place in the country to evacuate in a disaster.\" The document adds that evacuation decision-making procedures consider \"evacuation risks, the disruption to both the lives of our residents/visitors, businesses and the potential magnitude of the impending threat\".\n",
        "\n",
        "The death toll cited by Florida officials does not include at least 16 Cuban migrants who remain missing after their boat capsized off the state's coastline during the hurricane. Of the 27 people on board, nine were rescued by the US Coast Guard and two managed to swim ashore at Stock Island, near Key West, The bodies of two more who died have been recovered. The Coast Guard has suspended the search for those still missing.\n",
        "\n",
        "Approximately 430,000 homes and businesses remain without power across the state, according to data from poweroutage.us.\n",
        "\n",
        "The utility company with the largest number of outages, Florida Power & Light Co, said that the majority of customers will have their power restored by 7 October, but that storm damage has made some properties \"unable to safely accept power\".\n",
        "\n",
        "While officials are still assessing the damage caused by the hurricane across the state, experts have warned that the economic cost could ultimately rise to tens of billions of dollars. So far, insurers have reported about $1.44bn (£1.28bn) in preliminary claims.\n",
        "\n",
        "A preliminary forecast from data firm Enki Research published on 1 October estimated that total damages will amount to at least $66bn, but could rise as high as $75bn.\"\"\"\n",
        "\n",
        "news_title_3 = \"Hurricane Fiona: Canada hit by 'historic, extreme event'\"\n",
        "\n",
        "news_body_3 = \"\"\"Hundreds of thousands of people have been left without power, after Storm Fiona hit Canada's coastline.\n",
        "\n",
        "Fiona was downgraded from a hurricane to a tropical storm on Friday.\n",
        "\n",
        "But parts of three provinces experienced torrential rain and winds of up to 160km/h (99mph), with trees and powerlines felled and houses washed into the sea.\n",
        "\n",
        "Prime Minister Justin Trudeau said the situation was critical, and promised to provide support through the army.\n",
        "\n",
        "Officials have yet to share reports of fatalities or serious injuries, but authorities are dealing with extensive flooding.\n",
        "\n",
        "In a briefing Mr Trudeau described Fiona as \"a very powerful and dangerous storm\" and said the army will be deployed to help with assessment and clean-up efforts. His government has already responded positively to a request by Nova Scotia authorities for assistance.\n",
        "\n",
        "\"If there is anything the federal government can do to help, we will be there,\" he said, adding that he would no longer travel to Japan to attend the funeral of former Prime Minister Shinzo Abe.\n",
        "\n",
        "Tropical storm warnings were issued for the Atlantic provinces of Nova Scotia, Prince Edward Island, Newfoundland and New Brunswick, as well as in parts of Quebec.\n",
        "\n",
        "The country's eastern region could receive up to 10in (25cm) of rain, increasing the risk of flash flooding.\n",
        "\n",
        "In Nova Scotia, shelters were prepared in Halifax and Cape Breton for people to take cover ahead of the storm.\n",
        "\n",
        "\"We have been through these types of events before, but my fear is, not to this extent,\" said Amanda McDougall, mayor of Cape Breton Regional Municipality. \"The impacts are going to be large, real and immediate.\"\n",
        "\n",
        "In Port aux Basques, with a population of 4,067 on the southwest tip of Newfoundland, intense flooding saw some homes and office buildings washed out to sea, local journalist Rene Roy, told CBC. The area is under a state of emergency.\n",
        "\n",
        "\"This is hands down the most terrifying thing I've ever seen in my life,\" Mr Roy said.\n",
        "\n",
        "He added that many homes were left as \"a pile of rubble in the ocean right now\", adding: \"There is an apartment building that's literally gone. There are entire streets that are gone.\"\n",
        "\n",
        "Officials later confirmed that at least 20 homes had been lost.\n",
        "\n",
        "And the Royal Canadian Mounted Police said a woman was rescued after being \"tossed into the water as her home collapsed\" in the area. They said another report of a women being swept out from her basement had been received, but conditions remained too dangerous to conduct a search.\n",
        "\n",
        "Power companies have warned that it could take days to restore electricity, as wind speeds remain too high to start work on downed power lines.\n",
        "\n",
        "Severe hurricanes in Canada are rare, as storms lose their energy once they hit colder waters in the north and become post-tropical instead. But pressure in the region is predicted to be historically low as Storm Fiona hits, making way for a heavier storm.\n",
        "\n",
        "Nova Scotia was last battered by a tropical cyclone in 2003 with Hurricane Juan, a category two storm that killed two people and heavily damaged structures and vegetation.\n",
        "\n",
        "Meteorologist Bob Robichaud warned on Friday afternoon that Fiona will be bigger than Juan, and stronger than 2019's Hurricane Dorian, which also reached the shores of Nova Scotia.\n",
        "\n",
        "Fiona had already wreaked havoc on Puerto Rico and the Dominican Republic earlier this week, with many still left without power or running water.\n",
        "\n",
        "Florida also faces a hurricane threat as tropical storm Ian strengthened as it moved over the Caribbean on Saturday. It could approach Florida early next week as a major hurricane.\n",
        "\n",
        "Ian's projected path takes it just south of Jamaica, over western Cuba and into Florida, the hurricane centre said.\n",
        "\n",
        "Florida Keys and South Florida could be hit by heavy rains on Monday, according to forecasters.\n",
        "\n",
        "Florida Governor Ron DeSantis declared a state of emergency on Friday, freeing up funding and emergency services in advance of the storm.\"\"\"\n",
        "\n",
        "news_title_4 = \"Hurricane Ida: One million people in Louisiana without power\"\n",
        "\n",
        "news_body_4 = \"\"\"Louisiana residents may be in the dark for weeks as officials take stock of the damage from Hurricane Ida.\n",
        "\n",
        "Ida made landfall on Sunday with 150mph (240km/h) winds, the fifth strongest to ever hit the US mainland. About one million locals remain without power.\n",
        "\n",
        "\"It's going to be a difficult life for quite some time,\" said one local leader in the Greater New Orleans area.\n",
        "\n",
        "About 5,000 National Guard members have been deployed to aid search and rescue.\n",
        "\n",
        "In addition, more than 25,000 workers from around the country have mobilised to support power restoration in the state, according to CNN.\n",
        "\n",
        "At least one person is dead after a tree fell on their home in Ascension Parish, in Louisiana's Baton Rouge area.\n",
        "\n",
        "State and local officials have conceded that number is likely to grow as search and rescue efforts continue, but argued the city had largely \"held the line\".\n",
        "\n",
        "\"The systems we depended on to save lives and protect our city did just that and we are grateful, but there is so much more work to be done,\" said New Orleans Mayor LaToya Cantrell on Monday.\n",
        "\n",
        "She urged residents who had already evacuated their homes to stay put and not return until power and communications have been restored.\n",
        "\n",
        "As the slow-moving Ida continues to move inland, it has weakened to a tropical storm - but the National Hurricane Centre warned that heavy rain could still bring flooding to parts of Mississippi, Alabama and Florida.\n",
        "\n",
        "Ida was previously deemed \"life-threatening\", drawing comparisons to Hurricane Katrina, a 2005 storm that had a path similar to Ida and killed 1,800 people.\n",
        "\n",
        "But it seemed that New Orleans' flood defences, strengthened in Katrina's aftermath, have done their job. Governor John Bel Edwards said the levee systems had \"performed magnificently\" and none have thus far been breached.\n",
        "\n",
        "\"But the damage is still catastrophic,\" he acknowledged on Monday. \"We are still in a life saving mode.\"\n",
        "\n",
        "President Joe Biden has declared a major disaster in the state, releasing extra funds for rescue and recovery efforts.\n",
        "\n",
        "On Monday, he pledged that the federal government would \"stand with the people of the Gulf [Coast] for as long as it takes for you to recover\".\n",
        "\n",
        "Entergy, the largest power company in Louisiana, warned that it would take days - and likely weeks in the hardest hit areas - to restore electricity to the more than one million homes without power across the state.\n",
        "\n",
        "Ida gathered strength over the warm waters of the Gulf of Mexico during the weekend. More than 90% of oil production there has been shut down as a result of the storm.\n",
        "\n",
        "On Sunday, Ida made landfall south of New Orleans as a category four hurricane - meaning it would cause severe damage to buildings, trees and power lines. As it moves inland, Ida's winds have dropped to 95mph (153km/h), meaning it is now a category one storm.\n",
        "\n",
        "There are still fears of storm surges along the coast - which could be as high as 16ft (4.8m), potentially submerging parts of the low-lying coastline.\"\"\""
      ],
      "metadata": {
        "id": "BN2W6EVNP_qT"
      },
      "execution_count": null,
      "outputs": []
    },
    {
      "cell_type": "code",
      "source": [
        "# Creating a Pandas DataFrame for news titles and bodies\n",
        "news_df = pd.DataFrame({\"news_title\": [news_title_1, news_title_2, news_title_3, news_title_4], \"news_body\": [news_body_1, news_body_2, news_body_3, news_body_4]})"
      ],
      "metadata": {
        "id": "mSQTGy3OR43w"
      },
      "execution_count": null,
      "outputs": []
    },
    {
      "cell_type": "code",
      "source": [
        "news_df"
      ],
      "metadata": {
        "colab": {
          "base_uri": "https://localhost:8080/",
          "height": 174
        },
        "id": "cjXXPVF-mSuZ",
        "outputId": "351b2873-e9ce-47fc-c31a-80dc4b631374"
      },
      "execution_count": null,
      "outputs": [
        {
          "output_type": "execute_result",
          "data": {
            "text/plain": [
              "                                          news_title  \\\n",
              "0  First Hurricane of 2023 arrives ahead of schedule   \n",
              "1  Hurricane Ian: Florida death toll rises as cri...   \n",
              "2  Hurricane Fiona: Canada hit by 'historic, extr...   \n",
              "3  Hurricane Ida: One million people in Louisiana...   \n",
              "\n",
              "                                           news_body  \n",
              "0  Hurricane Don is the first Hurricane of the 20...  \n",
              "1  The death toll from Hurricane Ian has reported...  \n",
              "2  Hundreds of thousands of people have been left...  \n",
              "3  Louisiana residents may be in the dark for wee...  "
            ],
            "text/html": [
              "\n",
              "\n",
              "  <div id=\"df-4c61caed-ecad-4ea6-9c73-b5aded3af00a\">\n",
              "    <div class=\"colab-df-container\">\n",
              "      <div>\n",
              "<style scoped>\n",
              "    .dataframe tbody tr th:only-of-type {\n",
              "        vertical-align: middle;\n",
              "    }\n",
              "\n",
              "    .dataframe tbody tr th {\n",
              "        vertical-align: top;\n",
              "    }\n",
              "\n",
              "    .dataframe thead th {\n",
              "        text-align: right;\n",
              "    }\n",
              "</style>\n",
              "<table border=\"1\" class=\"dataframe\">\n",
              "  <thead>\n",
              "    <tr style=\"text-align: right;\">\n",
              "      <th></th>\n",
              "      <th>news_title</th>\n",
              "      <th>news_body</th>\n",
              "    </tr>\n",
              "  </thead>\n",
              "  <tbody>\n",
              "    <tr>\n",
              "      <th>0</th>\n",
              "      <td>First Hurricane of 2023 arrives ahead of schedule</td>\n",
              "      <td>Hurricane Don is the first Hurricane of the 20...</td>\n",
              "    </tr>\n",
              "    <tr>\n",
              "      <th>1</th>\n",
              "      <td>Hurricane Ian: Florida death toll rises as cri...</td>\n",
              "      <td>The death toll from Hurricane Ian has reported...</td>\n",
              "    </tr>\n",
              "    <tr>\n",
              "      <th>2</th>\n",
              "      <td>Hurricane Fiona: Canada hit by 'historic, extr...</td>\n",
              "      <td>Hundreds of thousands of people have been left...</td>\n",
              "    </tr>\n",
              "    <tr>\n",
              "      <th>3</th>\n",
              "      <td>Hurricane Ida: One million people in Louisiana...</td>\n",
              "      <td>Louisiana residents may be in the dark for wee...</td>\n",
              "    </tr>\n",
              "  </tbody>\n",
              "</table>\n",
              "</div>\n",
              "      <button class=\"colab-df-convert\" onclick=\"convertToInteractive('df-4c61caed-ecad-4ea6-9c73-b5aded3af00a')\"\n",
              "              title=\"Convert this dataframe to an interactive table.\"\n",
              "              style=\"display:none;\">\n",
              "\n",
              "  <svg xmlns=\"http://www.w3.org/2000/svg\" height=\"24px\"viewBox=\"0 0 24 24\"\n",
              "       width=\"24px\">\n",
              "    <path d=\"M0 0h24v24H0V0z\" fill=\"none\"/>\n",
              "    <path d=\"M18.56 5.44l.94 2.06.94-2.06 2.06-.94-2.06-.94-.94-2.06-.94 2.06-2.06.94zm-11 1L8.5 8.5l.94-2.06 2.06-.94-2.06-.94L8.5 2.5l-.94 2.06-2.06.94zm10 10l.94 2.06.94-2.06 2.06-.94-2.06-.94-.94-2.06-.94 2.06-2.06.94z\"/><path d=\"M17.41 7.96l-1.37-1.37c-.4-.4-.92-.59-1.43-.59-.52 0-1.04.2-1.43.59L10.3 9.45l-7.72 7.72c-.78.78-.78 2.05 0 2.83L4 21.41c.39.39.9.59 1.41.59.51 0 1.02-.2 1.41-.59l7.78-7.78 2.81-2.81c.8-.78.8-2.07 0-2.86zM5.41 20L4 18.59l7.72-7.72 1.47 1.35L5.41 20z\"/>\n",
              "  </svg>\n",
              "      </button>\n",
              "\n",
              "\n",
              "\n",
              "    <div id=\"df-012769c5-4538-4aad-ba2b-94f3c1771aec\">\n",
              "      <button class=\"colab-df-quickchart\" onclick=\"quickchart('df-012769c5-4538-4aad-ba2b-94f3c1771aec')\"\n",
              "              title=\"Suggest charts.\"\n",
              "              style=\"display:none;\">\n",
              "\n",
              "<svg xmlns=\"http://www.w3.org/2000/svg\" height=\"24px\"viewBox=\"0 0 24 24\"\n",
              "     width=\"24px\">\n",
              "    <g>\n",
              "        <path d=\"M19 3H5c-1.1 0-2 .9-2 2v14c0 1.1.9 2 2 2h14c1.1 0 2-.9 2-2V5c0-1.1-.9-2-2-2zM9 17H7v-7h2v7zm4 0h-2V7h2v10zm4 0h-2v-4h2v4z\"/>\n",
              "    </g>\n",
              "</svg>\n",
              "      </button>\n",
              "    </div>\n",
              "\n",
              "<style>\n",
              "  .colab-df-quickchart {\n",
              "    background-color: #E8F0FE;\n",
              "    border: none;\n",
              "    border-radius: 50%;\n",
              "    cursor: pointer;\n",
              "    display: none;\n",
              "    fill: #1967D2;\n",
              "    height: 32px;\n",
              "    padding: 0 0 0 0;\n",
              "    width: 32px;\n",
              "  }\n",
              "\n",
              "  .colab-df-quickchart:hover {\n",
              "    background-color: #E2EBFA;\n",
              "    box-shadow: 0px 1px 2px rgba(60, 64, 67, 0.3), 0px 1px 3px 1px rgba(60, 64, 67, 0.15);\n",
              "    fill: #174EA6;\n",
              "  }\n",
              "\n",
              "  [theme=dark] .colab-df-quickchart {\n",
              "    background-color: #3B4455;\n",
              "    fill: #D2E3FC;\n",
              "  }\n",
              "\n",
              "  [theme=dark] .colab-df-quickchart:hover {\n",
              "    background-color: #434B5C;\n",
              "    box-shadow: 0px 1px 3px 1px rgba(0, 0, 0, 0.15);\n",
              "    filter: drop-shadow(0px 1px 2px rgba(0, 0, 0, 0.3));\n",
              "    fill: #FFFFFF;\n",
              "  }\n",
              "</style>\n",
              "\n",
              "    <script>\n",
              "      async function quickchart(key) {\n",
              "        const containerElement = document.querySelector('#' + key);\n",
              "        const charts = await google.colab.kernel.invokeFunction(\n",
              "            'suggestCharts', [key], {});\n",
              "      }\n",
              "    </script>\n",
              "\n",
              "      <script>\n",
              "\n",
              "function displayQuickchartButton(domScope) {\n",
              "  let quickchartButtonEl =\n",
              "    domScope.querySelector('#df-012769c5-4538-4aad-ba2b-94f3c1771aec button.colab-df-quickchart');\n",
              "  quickchartButtonEl.style.display =\n",
              "    google.colab.kernel.accessAllowed ? 'block' : 'none';\n",
              "}\n",
              "\n",
              "        displayQuickchartButton(document);\n",
              "      </script>\n",
              "      <style>\n",
              "    .colab-df-container {\n",
              "      display:flex;\n",
              "      flex-wrap:wrap;\n",
              "      gap: 12px;\n",
              "    }\n",
              "\n",
              "    .colab-df-convert {\n",
              "      background-color: #E8F0FE;\n",
              "      border: none;\n",
              "      border-radius: 50%;\n",
              "      cursor: pointer;\n",
              "      display: none;\n",
              "      fill: #1967D2;\n",
              "      height: 32px;\n",
              "      padding: 0 0 0 0;\n",
              "      width: 32px;\n",
              "    }\n",
              "\n",
              "    .colab-df-convert:hover {\n",
              "      background-color: #E2EBFA;\n",
              "      box-shadow: 0px 1px 2px rgba(60, 64, 67, 0.3), 0px 1px 3px 1px rgba(60, 64, 67, 0.15);\n",
              "      fill: #174EA6;\n",
              "    }\n",
              "\n",
              "    [theme=dark] .colab-df-convert {\n",
              "      background-color: #3B4455;\n",
              "      fill: #D2E3FC;\n",
              "    }\n",
              "\n",
              "    [theme=dark] .colab-df-convert:hover {\n",
              "      background-color: #434B5C;\n",
              "      box-shadow: 0px 1px 3px 1px rgba(0, 0, 0, 0.15);\n",
              "      filter: drop-shadow(0px 1px 2px rgba(0, 0, 0, 0.3));\n",
              "      fill: #FFFFFF;\n",
              "    }\n",
              "  </style>\n",
              "\n",
              "      <script>\n",
              "        const buttonEl =\n",
              "          document.querySelector('#df-4c61caed-ecad-4ea6-9c73-b5aded3af00a button.colab-df-convert');\n",
              "        buttonEl.style.display =\n",
              "          google.colab.kernel.accessAllowed ? 'block' : 'none';\n",
              "\n",
              "        async function convertToInteractive(key) {\n",
              "          const element = document.querySelector('#df-4c61caed-ecad-4ea6-9c73-b5aded3af00a');\n",
              "          const dataTable =\n",
              "            await google.colab.kernel.invokeFunction('convertToInteractive',\n",
              "                                                     [key], {});\n",
              "          if (!dataTable) return;\n",
              "\n",
              "          const docLinkHtml = 'Like what you see? Visit the ' +\n",
              "            '<a target=\"_blank\" href=https://colab.research.google.com/notebooks/data_table.ipynb>data table notebook</a>'\n",
              "            + ' to learn more about interactive tables.';\n",
              "          element.innerHTML = '';\n",
              "          dataTable['output_type'] = 'display_data';\n",
              "          await google.colab.output.renderOutput(dataTable, element);\n",
              "          const docLink = document.createElement('div');\n",
              "          docLink.innerHTML = docLinkHtml;\n",
              "          element.appendChild(docLink);\n",
              "        }\n",
              "      </script>\n",
              "    </div>\n",
              "  </div>\n"
            ]
          },
          "metadata": {},
          "execution_count": 6
        }
      ]
    },
    {
      "cell_type": "markdown",
      "source": [
        "### Loading Model\n",
        "\n",
        "In the following cell, I have loaded the Falcon-7B-Instruct model from the Hugging Face model hub and its tokenizer. The model is loaded on the GPU in 8-bit mode using the `load_in_8_bit` and `device_map` parameters."
      ],
      "metadata": {
        "id": "bxkxF9Svdu6Z"
      }
    },
    {
      "cell_type": "code",
      "source": [
        "# Initializing model name/location on Hugging Face model hub\n",
        "MODEL_NAME = \"tiiuae/falcon-7b-instruct\"\n",
        "\n",
        "# Loading the model\n",
        "model = AutoModelForCausalLM.from_pretrained(\n",
        "    MODEL_NAME, trust_remote_code = True, load_in_8bit = True, device_map = \"auto\"\n",
        ")\n",
        "model = model.eval()\n",
        "\n",
        "# Loading model tokenizer\n",
        "tokenizer = AutoTokenizer.from_pretrained(MODEL_NAME)"
      ],
      "metadata": {
        "id": "-zvktMceshAE",
        "colab": {
          "base_uri": "https://localhost:8080/",
          "height": 292,
          "referenced_widgets": [
            "cdd5160b875e4e32aa08e1b5c44c9553",
            "dddf95c5dc6a4ab481463db47dc1e682",
            "012f4cea39ed46429a98ff24d5e3d1aa",
            "097eeba944b14a4e9c765d34f37b5fc9",
            "c3d8e2388eb34bf39173adc2a31682de",
            "6e8516544be84f82ab89fea8296fd404",
            "1097b15e2c9346b79f94f9ff8e689769",
            "c50dc796cf484e17ba963ad50d553371",
            "560c5f4ab02e41ec8c37b7fec6dec684",
            "27234efa9ced42dc8892f880dc3ffc94",
            "0340a63170114a358913fa2f257b847d"
          ]
        },
        "outputId": "ba012ff7-9ce7-470a-eef0-68ebe83286ed"
      },
      "execution_count": null,
      "outputs": [
        {
          "output_type": "stream",
          "name": "stdout",
          "text": [
            "\n",
            "===================================BUG REPORT===================================\n",
            "Welcome to bitsandbytes. For bug reports, please run\n",
            "\n",
            "python -m bitsandbytes\n",
            "\n",
            " and submit this information together with your error trace to: https://github.com/TimDettmers/bitsandbytes/issues\n",
            "================================================================================\n",
            "bin /usr/local/lib/python3.10/dist-packages/bitsandbytes/libbitsandbytes_cuda118.so\n",
            "CUDA_SETUP: WARNING! libcudart.so not found in any environmental path. Searching in backup paths...\n",
            "CUDA SETUP: CUDA runtime path found: /usr/local/cuda/lib64/libcudart.so.11.0\n",
            "CUDA SETUP: Highest compute capability among GPUs detected: 7.5\n",
            "CUDA SETUP: Detected CUDA version 118\n",
            "CUDA SETUP: Loading binary /usr/local/lib/python3.10/dist-packages/bitsandbytes/libbitsandbytes_cuda118.so...\n"
          ]
        },
        {
          "output_type": "display_data",
          "data": {
            "text/plain": [
              "Loading checkpoint shards:   0%|          | 0/2 [00:00<?, ?it/s]"
            ],
            "application/vnd.jupyter.widget-view+json": {
              "version_major": 2,
              "version_minor": 0,
              "model_id": "cdd5160b875e4e32aa08e1b5c44c9553"
            }
          },
          "metadata": {}
        }
      ]
    },
    {
      "cell_type": "code",
      "source": [
        "model"
      ],
      "metadata": {
        "colab": {
          "base_uri": "https://localhost:8080/"
        },
        "id": "cKvN4rnv1gK1",
        "outputId": "f818f77a-43b5-4c54-eee5-bfce753a385a"
      },
      "execution_count": null,
      "outputs": [
        {
          "output_type": "execute_result",
          "data": {
            "text/plain": [
              "RWForCausalLM(\n",
              "  (transformer): RWModel(\n",
              "    (word_embeddings): Embedding(65024, 4544)\n",
              "    (h): ModuleList(\n",
              "      (0-31): 32 x DecoderLayer(\n",
              "        (input_layernorm): LayerNorm((4544,), eps=1e-05, elementwise_affine=True)\n",
              "        (self_attention): Attention(\n",
              "          (maybe_rotary): RotaryEmbedding()\n",
              "          (query_key_value): Linear8bitLt(in_features=4544, out_features=4672, bias=False)\n",
              "          (dense): Linear8bitLt(in_features=4544, out_features=4544, bias=False)\n",
              "          (attention_dropout): Dropout(p=0.0, inplace=False)\n",
              "        )\n",
              "        (mlp): MLP(\n",
              "          (dense_h_to_4h): Linear8bitLt(in_features=4544, out_features=18176, bias=False)\n",
              "          (act): GELU(approximate='none')\n",
              "          (dense_4h_to_h): Linear8bitLt(in_features=18176, out_features=4544, bias=False)\n",
              "        )\n",
              "      )\n",
              "    )\n",
              "    (ln_f): LayerNorm((4544,), eps=1e-05, elementwise_affine=True)\n",
              "  )\n",
              "  (lm_head): Linear(in_features=4544, out_features=65024, bias=False)\n",
              ")"
            ]
          },
          "metadata": {},
          "execution_count": 8
        }
      ]
    },
    {
      "cell_type": "markdown",
      "source": [
        "### Checking Memory Usage"
      ],
      "metadata": {
        "id": "4I_GNcZ7elxO"
      }
    },
    {
      "cell_type": "code",
      "source": [
        "!nvidia-smi"
      ],
      "metadata": {
        "id": "HQkGoOSjjc7y",
        "colab": {
          "base_uri": "https://localhost:8080/"
        },
        "outputId": "e40d8155-7e9c-4771-d595-a206c66429ca"
      },
      "execution_count": null,
      "outputs": [
        {
          "output_type": "stream",
          "name": "stdout",
          "text": [
            "Mon Jul 24 16:13:25 2023       \n",
            "+-----------------------------------------------------------------------------+\n",
            "| NVIDIA-SMI 525.105.17   Driver Version: 525.105.17   CUDA Version: 12.0     |\n",
            "|-------------------------------+----------------------+----------------------+\n",
            "| GPU  Name        Persistence-M| Bus-Id        Disp.A | Volatile Uncorr. ECC |\n",
            "| Fan  Temp  Perf  Pwr:Usage/Cap|         Memory-Usage | GPU-Util  Compute M. |\n",
            "|                               |                      |               MIG M. |\n",
            "|===============================+======================+======================|\n",
            "|   0  Tesla T4            Off  | 00000000:00:04.0 Off |                    0 |\n",
            "| N/A   61C    P0    28W /  70W |   9073MiB / 15360MiB |      0%      Default |\n",
            "|                               |                      |                  N/A |\n",
            "+-------------------------------+----------------------+----------------------+\n",
            "                                                                               \n",
            "+-----------------------------------------------------------------------------+\n",
            "| Processes:                                                                  |\n",
            "|  GPU   GI   CI        PID   Type   Process name                  GPU Memory |\n",
            "|        ID   ID                                                   Usage      |\n",
            "|=============================================================================|\n",
            "+-----------------------------------------------------------------------------+\n"
          ]
        }
      ]
    },
    {
      "cell_type": "markdown",
      "source": [
        "Upon downloading the model and loading it locally, the GPU memory usage reaches approximately 60%."
      ],
      "metadata": {
        "id": "8Rbw-6Fun0CH"
      }
    },
    {
      "cell_type": "markdown",
      "source": [
        "### Creating Generation Configuration Parameters\n",
        "In the following cell, I have loaded the default generation configurations and customized them for precise responses."
      ],
      "metadata": {
        "id": "RQm1uhSReqis"
      }
    },
    {
      "cell_type": "code",
      "source": [
        "generation_config = model.generation_config\n",
        "generation_config.temperature = 0\n",
        "generation_config.num_return_sequences = 1\n",
        "generation_config.max_new_tokens = 256\n",
        "generation_config.use_cache = False\n",
        "generation_config.repetition_penalty = 1.7\n",
        "generation_config.pad_token_id = tokenizer.eos_token_id\n",
        "generation_config.eos_token_id = tokenizer.eos_token_id"
      ],
      "metadata": {
        "id": "rsQ-F2jJtbdy"
      },
      "execution_count": null,
      "outputs": []
    },
    {
      "cell_type": "code",
      "source": [
        "generation_config"
      ],
      "metadata": {
        "id": "OYDO0zuvyrSz",
        "colab": {
          "base_uri": "https://localhost:8080/"
        },
        "outputId": "787d90af-56a0-4793-d187-f17b8908d057"
      },
      "execution_count": null,
      "outputs": [
        {
          "output_type": "execute_result",
          "data": {
            "text/plain": [
              "GenerationConfig {\n",
              "  \"_from_model_config\": true,\n",
              "  \"bos_token_id\": 1,\n",
              "  \"eos_token_id\": 11,\n",
              "  \"max_new_tokens\": 256,\n",
              "  \"pad_token_id\": 11,\n",
              "  \"repetition_penalty\": 1.7,\n",
              "  \"temperature\": 0,\n",
              "  \"transformers_version\": \"4.30.0\",\n",
              "  \"use_cache\": false\n",
              "}"
            ]
          },
          "metadata": {},
          "execution_count": 11
        }
      ]
    },
    {
      "cell_type": "code",
      "source": [
        "model.config"
      ],
      "metadata": {
        "id": "d5SJFnDSytdD",
        "colab": {
          "base_uri": "https://localhost:8080/"
        },
        "outputId": "5816845f-6c0e-4a97-9969-124e6e7bb2bb"
      },
      "execution_count": null,
      "outputs": [
        {
          "output_type": "execute_result",
          "data": {
            "text/plain": [
              "RWConfig {\n",
              "  \"_name_or_path\": \"tiiuae/falcon-7b-instruct\",\n",
              "  \"alibi\": false,\n",
              "  \"apply_residual_connection_post_layernorm\": false,\n",
              "  \"architectures\": [\n",
              "    \"RWForCausalLM\"\n",
              "  ],\n",
              "  \"attention_dropout\": 0.0,\n",
              "  \"auto_map\": {\n",
              "    \"AutoConfig\": \"tiiuae/falcon-7b-instruct--configuration_RW.RWConfig\",\n",
              "    \"AutoModelForCausalLM\": \"tiiuae/falcon-7b-instruct--modelling_RW.RWForCausalLM\"\n",
              "  },\n",
              "  \"bias\": false,\n",
              "  \"bos_token_id\": 11,\n",
              "  \"eos_token_id\": 11,\n",
              "  \"hidden_dropout\": 0.0,\n",
              "  \"hidden_size\": 4544,\n",
              "  \"initializer_range\": 0.02,\n",
              "  \"layer_norm_epsilon\": 1e-05,\n",
              "  \"model_type\": \"RefinedWebModel\",\n",
              "  \"multi_query\": true,\n",
              "  \"n_head\": 71,\n",
              "  \"n_layer\": 32,\n",
              "  \"parallel_attn\": true,\n",
              "  \"quantization_config\": {\n",
              "    \"bnb_4bit_compute_dtype\": \"float32\",\n",
              "    \"bnb_4bit_quant_type\": \"fp4\",\n",
              "    \"bnb_4bit_use_double_quant\": false,\n",
              "    \"llm_int8_enable_fp32_cpu_offload\": false,\n",
              "    \"llm_int8_has_fp16_weight\": false,\n",
              "    \"llm_int8_skip_modules\": null,\n",
              "    \"llm_int8_threshold\": 6.0,\n",
              "    \"load_in_4bit\": false,\n",
              "    \"load_in_8bit\": true\n",
              "  },\n",
              "  \"torch_dtype\": \"bfloat16\",\n",
              "  \"transformers_version\": \"4.30.0\",\n",
              "  \"use_cache\": true,\n",
              "  \"vocab_size\": 65024\n",
              "}"
            ]
          },
          "metadata": {},
          "execution_count": 12
        }
      ]
    },
    {
      "cell_type": "markdown",
      "source": [
        "The `load_in_8bit` parameter shows the model is loaded in 8-bit mode."
      ],
      "metadata": {
        "id": "AV-Cxp8toT-4"
      }
    },
    {
      "cell_type": "markdown",
      "source": [
        "### Creating a Custom Prompt Template\n",
        "In the following cell, I have created a custom prompt template with instructions to query any news article provided as a string. The Falcon-7B-Instruct model is quite flexible and doesn't require predefined prompts; any custom prompt with clear instructions will suffice for querying.\n",
        "\n",
        "Before creating the pipeline to query the hurricane news dataset, I conducted a test using the custom prompt template on a recent news article about an earthquake to check if the model responses were correct."
      ],
      "metadata": {
        "id": "KCkVE--CiQuS"
      }
    },
    {
      "cell_type": "code",
      "source": [
        "# Static pre-prompt to define bot behavior\n",
        "PRE_PROMPT = \"\"\"\n",
        "A news article is provided below by a human. You are an intelligent AI that can answer questions based on the news article. Keep your answers short and concise. Do not generate any new information that is not present in the news article. If you don't know the answer, respond \"I don't know.\"\n",
        "\n",
        "News article:\\n\n",
        "\"\"\""
      ],
      "metadata": {
        "id": "ZKbJHXkn3Vhy"
      },
      "execution_count": null,
      "outputs": []
    },
    {
      "cell_type": "code",
      "source": [
        "# News article for knowledge extraction\n",
        "NEWS = \"\"\"\n",
        "An earthquake of magnitude 3.2 on the Richter scale hit Uttarakhand's Pithoragarh on Sunday evening, according to the National Center for Seismology (NCS).\n",
        "\n",
        "According to the NCS, the earthquake occurred at 6.34 pm at a depth of 5 kilometres.\n",
        "\n",
        "\"Earthquake of Magnitude:3.2, Occurred on 23-07-2023, 18:34:39 IST, Lat: 30.58 & Long: 80.18, Depth: 5 Km, Region: Pithoragarh, Uttarakhand, India,\" the NCS tweeted.\n",
        "\n",
        "Earlier in the day, the National Centre for Seismology reported that an earthquake of magnitude 3.3 on the Richter scale hit Arunachal Pradesh's Tawang on Sunday morning.\n",
        "\n",
        "The earthquake occurred at 6.56 am. According to the NCS, the earthquake occurred at a depth of 5 kilometres.\n",
        "\n",
        "\"Earthquake of Magnitude:3.3, Occurred on 22-07-2023, 06:56:08 IST, Lat: 27.44 & Long: 92.51, Depth: 5 Km, Location: Tawang, Arunachal Pradesh, India,\" the NCS tweeted.\n",
        "\"\"\""
      ],
      "metadata": {
        "id": "1kKEsBTR5o9w"
      },
      "execution_count": null,
      "outputs": []
    },
    {
      "cell_type": "code",
      "source": [
        "# Prompt template generation function\n",
        "def prompt_template_generator(PRE_PROMPT, NEWS, QUESTION):\n",
        "  # Creating the prompt template\n",
        "  prompt = f\"\"\"\n",
        "{PRE_PROMPT}\n",
        "{NEWS}\n",
        "\n",
        "Q-A with user:\n",
        "\n",
        "Human: {QUESTION}\n",
        "AI:\n",
        "\"\"\".strip()\n",
        "\n",
        "  return prompt\n",
        "\n",
        "# Prompt tokenizer function\n",
        "def prompt_tokenizer(prompt):\n",
        "  # Tokenizing prompt into token IDs\n",
        "  input_ids = tokenizer(prompt, return_tensors=\"pt\").input_ids\n",
        "  # Storing token IDs in the CUDA device\n",
        "  input_ids = input_ids.to(model.device)\n",
        "  return input_ids\n",
        "\n",
        "# Inference function\n",
        "def inference(input_ids, generation_config):\n",
        "  with torch.inference_mode():\n",
        "    outputs = model.generate(input_ids = input_ids, generation_config = generation_config)\n",
        "  # De-tokenizing response and skipping special tokens\n",
        "  response = tokenizer.decode(outputs[0], skip_special_tokens = True)\n",
        "  return response"
      ],
      "metadata": {
        "id": "zOdC5BgnlEAb"
      },
      "execution_count": null,
      "outputs": []
    },
    {
      "cell_type": "code",
      "source": [
        "# User question\n",
        "QUESTION = \"What was the location of the earthquake?\""
      ],
      "metadata": {
        "id": "CSzWQkA1ll0F"
      },
      "execution_count": null,
      "outputs": []
    },
    {
      "cell_type": "code",
      "source": [
        "prompt = prompt_template_generator(PRE_PROMPT, NEWS, QUESTION)"
      ],
      "metadata": {
        "id": "cD7qEJ81kT_g"
      },
      "execution_count": null,
      "outputs": []
    },
    {
      "cell_type": "code",
      "source": [
        "print(prompt)"
      ],
      "metadata": {
        "colab": {
          "base_uri": "https://localhost:8080/"
        },
        "id": "OLTzXmoFogFe",
        "outputId": "98dfec2d-90f6-4601-8b4b-2d7e0d63fa4e"
      },
      "execution_count": null,
      "outputs": [
        {
          "output_type": "stream",
          "name": "stdout",
          "text": [
            "A news article is provided below by a human. You are an intelligent AI that can answer questions based on the news article. Keep your answers short and concise. Do not generate any new information that is not present in the news article. If you don't know the answer, respond \"I don't know.\"\n",
            "\n",
            "News article:\n",
            "\n",
            "\n",
            "\n",
            "An earthquake of magnitude 3.2 on the Richter scale hit Uttarakhand's Pithoragarh on Sunday evening, according to the National Center for Seismology (NCS). \n",
            "\n",
            "According to the NCS, the earthquake occurred at 6.34 pm at a depth of 5 kilometres. \n",
            "\n",
            "\"Earthquake of Magnitude:3.2, Occurred on 23-07-2023, 18:34:39 IST, Lat: 30.58 & Long: 80.18, Depth: 5 Km, Region: Pithoragarh, Uttarakhand, India,\" the NCS tweeted. \n",
            "\n",
            "Earlier in the day, the National Centre for Seismology reported that an earthquake of magnitude 3.3 on the Richter scale hit Arunachal Pradesh's Tawang on Sunday morning. \n",
            "\n",
            "The earthquake occurred at 6.56 am. According to the NCS, the earthquake occurred at a depth of 5 kilometres. \n",
            "\n",
            "\"Earthquake of Magnitude:3.3, Occurred on 22-07-2023, 06:56:08 IST, Lat: 27.44 & Long: 92.51, Depth: 5 Km, Location: Tawang, Arunachal Pradesh, India,\" the NCS tweeted.\n",
            "\n",
            "\n",
            "Q-A with user:\n",
            "\n",
            "Human: What was the location of the earthquake?\n",
            "AI:\n"
          ]
        }
      ]
    },
    {
      "cell_type": "code",
      "source": [
        "# Tokenizing the prompt and generating model inference\n",
        "response = inference(prompt_tokenizer(prompt), generation_config)"
      ],
      "metadata": {
        "id": "oZh08bgkloU_"
      },
      "execution_count": null,
      "outputs": []
    },
    {
      "cell_type": "code",
      "source": [
        "print(response)"
      ],
      "metadata": {
        "colab": {
          "base_uri": "https://localhost:8080/"
        },
        "id": "KXyLmHqKqY-h",
        "outputId": "2035fb56-4c88-45fc-c422-8319d835ddb1"
      },
      "execution_count": null,
      "outputs": [
        {
          "output_type": "stream",
          "name": "stdout",
          "text": [
            "A news article is provided below by a human. You are an intelligent AI that can answer questions based on the news article. Keep your answers short and concise. Do not generate any new information that is not present in the news article. If you don't know the answer, respond \"I don't know.\"\n",
            "\n",
            "News article:\n",
            "\n",
            "\n",
            "\n",
            "An earthquake of magnitude 3.2 on the Richter scale hit Uttarakhand's Pithoragarh on Sunday evening, according to the National Center for Seismology (NCS). \n",
            "\n",
            "According to the NCS, the earthquake occurred at 6.34 pm at a depth of 5 kilometres. \n",
            "\n",
            "\"Earthquake of Magnitude:3.2, Occurred on 23-07-2023, 18:34:39 IST, Lat: 30.58 & Long: 80.18, Depth: 5 Km, Region: Pithoragarh, Uttarakhand, India,\" the NCS tweeted. \n",
            "\n",
            "Earlier in the day, the National Centre for Seismology reported that an earthquake of magnitude 3.3 on the Richter scale hit Arunachal Pradesh's Tawang on Sunday morning. \n",
            "\n",
            "The earthquake occurred at 6.56 am. According to the NCS, the earthquake occurred at a depth of 5 kilometres. \n",
            "\n",
            "\"Earthquake of Magnitude:3.3, Occurred on 22-07-2023, 06:56:08 IST, Lat: 27.44 & Long: 92.51, Depth: 5 Km, Location: Tawang, Arunachal Pradesh, India,\" the NCS tweeted.\n",
            "\n",
            "\n",
            "Q-A with user:\n",
            "\n",
            "Human: What was the location of the earthquake?\n",
            "AI: The earthquake occurred in Pithoragarh, Uttarakhand, India.\n",
            "User \n"
          ]
        }
      ]
    },
    {
      "cell_type": "markdown",
      "source": [
        "The model correctly identified the region hit by the earthquake. Impressive!"
      ],
      "metadata": {
        "id": "W04E0OmcuXgt"
      }
    },
    {
      "cell_type": "code",
      "source": [
        "# Another query to test the model output\n",
        "response = inference(prompt_tokenizer(prompt_template_generator(PRE_PROMPT, NEWS, \"How strong was the earthquake?\")), generation_config)"
      ],
      "metadata": {
        "id": "RtPNaJ5YtZYh"
      },
      "execution_count": null,
      "outputs": []
    },
    {
      "cell_type": "code",
      "source": [
        "print(response)"
      ],
      "metadata": {
        "colab": {
          "base_uri": "https://localhost:8080/"
        },
        "id": "b3bdryvauMH_",
        "outputId": "ff9be0f8-f213-465e-d510-8bdf1e7d04a4"
      },
      "execution_count": null,
      "outputs": [
        {
          "output_type": "stream",
          "name": "stdout",
          "text": [
            "A news article is provided below by a human. You are an intelligent AI that can answer questions based on the news article. Keep your answers short and concise. Do not generate any new information that is not present in the news article. If you don't know the answer, respond \"I don't know.\"\n",
            "\n",
            "News article:\n",
            "\n",
            "\n",
            "\n",
            "An earthquake of magnitude 3.2 on the Richter scale hit Uttarakhand's Pithoragarh on Sunday evening, according to the National Center for Seismology (NCS). \n",
            "\n",
            "According to the NCS, the earthquake occurred at 6.34 pm at a depth of 5 kilometres. \n",
            "\n",
            "\"Earthquake of Magnitude:3.2, Occurred on 23-07-2023, 18:34:39 IST, Lat: 30.58 & Long: 80.18, Depth: 5 Km, Region: Pithoragarh, Uttarakhand, India,\" the NCS tweeted. \n",
            "\n",
            "Earlier in the day, the National Centre for Seismology reported that an earthquake of magnitude 3.3 on the Richter scale hit Arunachal Pradesh's Tawang on Sunday morning. \n",
            "\n",
            "The earthquake occurred at 6.56 am. According to the NCS, the earthquake occurred at a depth of 5 kilometres. \n",
            "\n",
            "\"Earthquake of Magnitude:3.3, Occurred on 22-07-2023, 06:56:08 IST, Lat: 27.44 & Long: 92.51, Depth: 5 Km, Location: Tawang, Arunachal Pradesh, India,\" the NCS tweeted.\n",
            "\n",
            "\n",
            "Q-A with user:\n",
            "\n",
            "Human: How strong was the earthquake?\n",
            "AI: The earthquake had a magnitude of 3.2 and 3.3 on the Richter scale.\n",
            "User \n"
          ]
        }
      ]
    },
    {
      "cell_type": "markdown",
      "source": [
        "Once again, the model correctly answered how strong the earthquake was. However, due to the mention of two earthquakes in the news article, the model provided magnitudes for both instances.\n",
        "\n",
        "The model response also contains an unwanted token \"User\", which can be cleaned using `StoppingCriteria` from the `transformers` library and `BaseOutputParser` from the `langchain` library."
      ],
      "metadata": {
        "id": "n_1xk9BWukqV"
      }
    },
    {
      "cell_type": "markdown",
      "source": [
        "### Stopping Text Generation\n",
        "\n",
        "In the following cell, I have extended the abstract base class `StoppingCriteria` into a new class `CustomStoppingCriteria` to stop the model from hallucinating questions and conversations when the stopping criteria are met. This would control the output and the prevent model from generating off-topic and irrelevant texts."
      ],
      "metadata": {
        "id": "Pj6bp5xIvLbK"
      }
    },
    {
      "cell_type": "code",
      "source": [
        "# Creating a custom stopping criteria class from StoppingCriteria abstract base class from the Transformers library\n",
        "class CustomStoppingCriteria(StoppingCriteria):\n",
        "  def __init__(self, tokens: List[List[str]], tokenizer: AutoTokenizer, device: torch.device):\n",
        "    # Converting tokens to token IDs\n",
        "    stop_token_ids = [tokenizer.convert_tokens_to_ids(t) for t in tokens]\n",
        "    # Converting token IDs to Tensors in long format and loading them in the CUDA device\n",
        "    self.stop_token_ids = [torch.tensor(x, dtype = torch.long, device = device) for x in stop_token_ids]\n",
        "\n",
        "  # Function to check if the stop token ID is equal to the current or last few generated token and stopping generation if a match is found\n",
        "  def __call__(self, input_ids: torch.LongTensor, scores: torch.FloatTensor, **kwargs) -> bool:\n",
        "    for stop_ids in self.stop_token_ids:\n",
        "      if torch.eq(input_ids[0][-len(stop_ids) :], stop_ids).all():\n",
        "        return True\n",
        "      return False"
      ],
      "metadata": {
        "id": "PUTqqU4MqclM"
      },
      "execution_count": null,
      "outputs": []
    },
    {
      "cell_type": "code",
      "source": [
        "# Initializing stop tokens to detect\n",
        "stop_tokens = [[\"Human\", \":\"], [\"AI\", \":\"]]\n",
        "stopping_criteria = StoppingCriteriaList([CustomStoppingCriteria(stop_tokens, tokenizer, model.device)])"
      ],
      "metadata": {
        "id": "A6Sn3GdwqfqN"
      },
      "execution_count": null,
      "outputs": []
    },
    {
      "cell_type": "markdown",
      "source": [
        "### Final Pipeline\n",
        "In the following cell, I have created a text generation pipeline that accepts a model, model tokenizer, stopping criteria, custom configuration for text generation, and the prompt to generate responses."
      ],
      "metadata": {
        "id": "HU8tQ6DS0CUl"
      }
    },
    {
      "cell_type": "code",
      "source": [
        "generation_pipeline = pipeline(\n",
        "    model = model,\n",
        "    tokenizer = tokenizer,\n",
        "    return_full_text = True,\n",
        "    task = \"text-generation\",\n",
        "    stopping_criteria = stopping_criteria,\n",
        "    generation_config = generation_config\n",
        ")\n",
        "\n",
        "llm = HuggingFacePipeline(pipeline = generation_pipeline)"
      ],
      "metadata": {
        "colab": {
          "base_uri": "https://localhost:8080/"
        },
        "id": "qd7J2KmNr6jx",
        "outputId": "def17805-6cd4-440a-8f74-871967b3479c"
      },
      "execution_count": null,
      "outputs": [
        {
          "output_type": "stream",
          "name": "stderr",
          "text": [
            "The model 'RWForCausalLM' is not supported for text-generation. Supported models are ['BartForCausalLM', 'BertLMHeadModel', 'BertGenerationDecoder', 'BigBirdForCausalLM', 'BigBirdPegasusForCausalLM', 'BioGptForCausalLM', 'BlenderbotForCausalLM', 'BlenderbotSmallForCausalLM', 'BloomForCausalLM', 'CamembertForCausalLM', 'CodeGenForCausalLM', 'CpmAntForCausalLM', 'CTRLLMHeadModel', 'Data2VecTextForCausalLM', 'ElectraForCausalLM', 'ErnieForCausalLM', 'GitForCausalLM', 'GPT2LMHeadModel', 'GPT2LMHeadModel', 'GPTBigCodeForCausalLM', 'GPTNeoForCausalLM', 'GPTNeoXForCausalLM', 'GPTNeoXJapaneseForCausalLM', 'GPTJForCausalLM', 'LlamaForCausalLM', 'MarianForCausalLM', 'MBartForCausalLM', 'MegaForCausalLM', 'MegatronBertForCausalLM', 'MvpForCausalLM', 'OpenLlamaForCausalLM', 'OpenAIGPTLMHeadModel', 'OPTForCausalLM', 'PegasusForCausalLM', 'PLBartForCausalLM', 'ProphetNetForCausalLM', 'QDQBertLMHeadModel', 'ReformerModelWithLMHead', 'RemBertForCausalLM', 'RobertaForCausalLM', 'RobertaPreLayerNormForCausalLM', 'RoCBertForCausalLM', 'RoFormerForCausalLM', 'RwkvForCausalLM', 'Speech2Text2ForCausalLM', 'TransfoXLLMHeadModel', 'TrOCRForCausalLM', 'XGLMForCausalLM', 'XLMWithLMHeadModel', 'XLMProphetNetForCausalLM', 'XLMRobertaForCausalLM', 'XLMRobertaXLForCausalLM', 'XLNetLMHeadModel', 'XmodForCausalLM'].\n"
          ]
        }
      ]
    },
    {
      "cell_type": "code",
      "source": [
        "response = llm(prompt)"
      ],
      "metadata": {
        "id": "ZGpGSReJkeDH"
      },
      "execution_count": null,
      "outputs": []
    },
    {
      "cell_type": "code",
      "source": [
        "print(response)"
      ],
      "metadata": {
        "colab": {
          "base_uri": "https://localhost:8080/"
        },
        "id": "hNYy2jdesMwx",
        "outputId": "0f046bfa-5732-4293-92e0-fbdd30cde56f"
      },
      "execution_count": null,
      "outputs": [
        {
          "output_type": "stream",
          "name": "stdout",
          "text": [
            " The earthquake occurred in Pithoragarh, Uttarakhand, India.\n",
            "User \n"
          ]
        }
      ]
    },
    {
      "cell_type": "code",
      "source": [
        "prompt = prompt_template_generator(PRE_PROMPT, NEWS, \"What was the magnitude of the earthquake?\")\n",
        "response = llm(prompt)"
      ],
      "metadata": {
        "id": "8JT7MtJS0oId"
      },
      "execution_count": null,
      "outputs": []
    },
    {
      "cell_type": "code",
      "source": [
        "print(response)"
      ],
      "metadata": {
        "colab": {
          "base_uri": "https://localhost:8080/"
        },
        "id": "fLuuL9730yOX",
        "outputId": "5479734f-c169-46a3-d138-b9a126b1de39"
      },
      "execution_count": null,
      "outputs": [
        {
          "output_type": "stream",
          "name": "stdout",
          "text": [
            " The magnitude of the earthquake was 3.2 and 3.3 on the Richter scale.\n",
            "User \n"
          ]
        }
      ]
    },
    {
      "cell_type": "markdown",
      "source": [
        "Both `inference()` and `llm()` could be used to query against the model and receive responses.\n",
        "\n",
        "The unwanted token \"User\" is still attached to the response. The `BaseOutputParser` class from `transformers` can help remove it."
      ],
      "metadata": {
        "id": "ZMtgL5ZY1eeS"
      }
    },
    {
      "cell_type": "markdown",
      "source": [
        "### Information Retrivel from the Hurricane News Dataset\n",
        "\n",
        "In the subsequent code cells, I utilized my dummy hurricane news dataset and generation pipeline to extract crucial data points, including the hurricane name, hurricane category, and the regions affected. These extracted data points could be extended and utilized in various downstream tasks, such as impact analysis, machine learning modeling for predictive purposes, or even creating new public or commercial datasets."
      ],
      "metadata": {
        "id": "FNU66sqd1BgL"
      }
    },
    {
      "cell_type": "code",
      "source": [
        "# Static pre-prompt to define bot behavior\n",
        "PRE_PROMPT = \"\"\"\n",
        "You are an intelligent AI that can answer questions based on the news article on hurricane provided by the user. The questions will be asked regarding a set of pre-defined topics. You have to generate the response based on the topics.\n",
        "\n",
        "Here are the list of topics and the expected response:\n",
        "1. Hurricane Name: Extract the name of the hurricane from the news article. If there are no hurricanes mentioned, respond \"NA\". If the news article is unrelated to hurricane, respond \"Irrelevant News\".\n",
        "2. Hurricane Location: Extract the location where the hurricane hit. If there are no locations that were hit by hurricane, respond \"NA\". If the news article is unrelated to hurricane, respond \"Irrelevant News\".\n",
        "3. Hurricane Category: Extract the category of the hurricane. The answer would be either Category 1, Category 2, Category 3, Category 4, or Category 5. If no category is mentioned, respond \"NA\". If the news article is unrelated to hurricane, respond \"Irrelevant News\".\n",
        "\n",
        "Do not generate any new information which is not available in the news article. If the user asks a question outside the scope of the news article, respond \"I don't know.\"\n",
        "\n",
        "News article:\\n\n",
        "\"\"\""
      ],
      "metadata": {
        "id": "6mwXwQisB7GQ"
      },
      "execution_count": null,
      "outputs": []
    },
    {
      "cell_type": "code",
      "source": [
        "# Function to extract hurricane name from the news body\n",
        "def extract_hurricane_name(news_body):\n",
        "  NEWS = news_body\n",
        "  # User question\n",
        "  QUESTION = \"What is the name of hurricane?\"\n",
        "  # Generate prompt template\n",
        "  prompt = prompt_template_generator(PRE_PROMPT, NEWS, QUESTION)\n",
        "  # Generate response\n",
        "  response = llm(prompt)\n",
        "  return response"
      ],
      "metadata": {
        "id": "AdbbbTAB4GwV"
      },
      "execution_count": null,
      "outputs": []
    },
    {
      "cell_type": "code",
      "source": [
        "# Function to extract hurricane location from the news body\n",
        "def extract_hurricane_location(news_body):\n",
        "  NEWS = news_body\n",
        "  # User question\n",
        "  QUESTION = \"Which region was affected by the hurricane?\"\n",
        "  # Generate prompt template\n",
        "  prompt = prompt_template_generator(PRE_PROMPT, NEWS, QUESTION)\n",
        "  # Generate response\n",
        "  response = llm(prompt)\n",
        "  return response"
      ],
      "metadata": {
        "id": "7fRbOUP44puj"
      },
      "execution_count": null,
      "outputs": []
    },
    {
      "cell_type": "code",
      "source": [
        "# Function to extract hurricane category from the news body\n",
        "def extract_hurricane_category(news_body):\n",
        "  NEWS = news_body\n",
        "  # User question\n",
        "  QUESTION = \"What is the category of the hurricane?\"\n",
        "  # Generate prompt template\n",
        "  prompt = prompt_template_generator(PRE_PROMPT, NEWS, QUESTION)\n",
        "  # Generate response\n",
        "  response = llm(prompt)\n",
        "  return response"
      ],
      "metadata": {
        "id": "7Cn0Ybmn44wG"
      },
      "execution_count": null,
      "outputs": []
    },
    {
      "cell_type": "code",
      "source": [
        "# Extracting data points from the news body\n",
        "news_df['hurricane_name'] = news_df['news_body'].apply(lambda x: extract_hurricane_name(x))\n",
        "news_df['hurricane_location'] = news_df['news_body'].apply(lambda x: extract_hurricane_location(x))\n",
        "news_df['hurricane_category'] = news_df['news_body'].apply(lambda x: extract_hurricane_category(x))"
      ],
      "metadata": {
        "id": "ZoPCHq8m3smg"
      },
      "execution_count": null,
      "outputs": []
    },
    {
      "cell_type": "code",
      "source": [
        "# Cleaning model response\n",
        "news_df['hurricane_name'] = news_df['hurricane_name'].str.replace('\\nUser', '')\n",
        "news_df['hurricane_location'] = news_df['hurricane_location'].str.replace('\\nUser', '')\n",
        "news_df['hurricane_category'] = news_df['hurricane_category'].str.replace('\\nUser', '')"
      ],
      "metadata": {
        "id": "RnDLVjiF64Qs"
      },
      "execution_count": null,
      "outputs": []
    },
    {
      "cell_type": "code",
      "source": [
        "news_df"
      ],
      "metadata": {
        "colab": {
          "base_uri": "https://localhost:8080/",
          "height": 288
        },
        "id": "HYosgSdU4ihN",
        "outputId": "defd676f-77a8-45f6-94b4-55257ea5d5ed"
      },
      "execution_count": null,
      "outputs": [
        {
          "output_type": "execute_result",
          "data": {
            "text/plain": [
              "                                          news_title  \\\n",
              "0  First Hurricane of 2023 arrives ahead of schedule   \n",
              "1  Hurricane Ian: Florida death toll rises as cri...   \n",
              "2  Hurricane Fiona: Canada hit by 'historic, extr...   \n",
              "3  Hurricane Ida: One million people in Louisiana...   \n",
              "\n",
              "                                           news_body     hurricane_name  \\\n",
              "0  Hurricane Don is the first Hurricane of the 20...     Hurricane Don    \n",
              "1  The death toll from Hurricane Ian has reported...     Hurricane Ian    \n",
              "2  Hundreds of thousands of people have been left...   Hurricane Fiona    \n",
              "3  Louisiana residents may be in the dark for wee...     Hurricane Ida    \n",
              "\n",
              "                                  hurricane_location  \\\n",
              "0   The hurricane impacted the coastal areas of t...   \n",
              "1      The hurricane affected the state of Florida.    \n",
              "2   The hurricane affected the Atlantic provinces...   \n",
              "3   The hurricane affected the Gulf Coast region ...   \n",
              "\n",
              "                               hurricane_category  \n",
              "0                                     Category 1   \n",
              "1   The category of the hurricane is Category 1.   \n",
              "2   The category of the hurricane is Category 1.   \n",
              "3                                     Category 1   "
            ],
            "text/html": [
              "\n",
              "\n",
              "  <div id=\"df-143d8848-3afd-4138-a7aa-99290db5a318\">\n",
              "    <div class=\"colab-df-container\">\n",
              "      <div>\n",
              "<style scoped>\n",
              "    .dataframe tbody tr th:only-of-type {\n",
              "        vertical-align: middle;\n",
              "    }\n",
              "\n",
              "    .dataframe tbody tr th {\n",
              "        vertical-align: top;\n",
              "    }\n",
              "\n",
              "    .dataframe thead th {\n",
              "        text-align: right;\n",
              "    }\n",
              "</style>\n",
              "<table border=\"1\" class=\"dataframe\">\n",
              "  <thead>\n",
              "    <tr style=\"text-align: right;\">\n",
              "      <th></th>\n",
              "      <th>news_title</th>\n",
              "      <th>news_body</th>\n",
              "      <th>hurricane_name</th>\n",
              "      <th>hurricane_location</th>\n",
              "      <th>hurricane_category</th>\n",
              "    </tr>\n",
              "  </thead>\n",
              "  <tbody>\n",
              "    <tr>\n",
              "      <th>0</th>\n",
              "      <td>First Hurricane of 2023 arrives ahead of schedule</td>\n",
              "      <td>Hurricane Don is the first Hurricane of the 20...</td>\n",
              "      <td>Hurricane Don</td>\n",
              "      <td>The hurricane impacted the coastal areas of t...</td>\n",
              "      <td>Category 1</td>\n",
              "    </tr>\n",
              "    <tr>\n",
              "      <th>1</th>\n",
              "      <td>Hurricane Ian: Florida death toll rises as cri...</td>\n",
              "      <td>The death toll from Hurricane Ian has reported...</td>\n",
              "      <td>Hurricane Ian</td>\n",
              "      <td>The hurricane affected the state of Florida.</td>\n",
              "      <td>The category of the hurricane is Category 1.</td>\n",
              "    </tr>\n",
              "    <tr>\n",
              "      <th>2</th>\n",
              "      <td>Hurricane Fiona: Canada hit by 'historic, extr...</td>\n",
              "      <td>Hundreds of thousands of people have been left...</td>\n",
              "      <td>Hurricane Fiona</td>\n",
              "      <td>The hurricane affected the Atlantic provinces...</td>\n",
              "      <td>The category of the hurricane is Category 1.</td>\n",
              "    </tr>\n",
              "    <tr>\n",
              "      <th>3</th>\n",
              "      <td>Hurricane Ida: One million people in Louisiana...</td>\n",
              "      <td>Louisiana residents may be in the dark for wee...</td>\n",
              "      <td>Hurricane Ida</td>\n",
              "      <td>The hurricane affected the Gulf Coast region ...</td>\n",
              "      <td>Category 1</td>\n",
              "    </tr>\n",
              "  </tbody>\n",
              "</table>\n",
              "</div>\n",
              "      <button class=\"colab-df-convert\" onclick=\"convertToInteractive('df-143d8848-3afd-4138-a7aa-99290db5a318')\"\n",
              "              title=\"Convert this dataframe to an interactive table.\"\n",
              "              style=\"display:none;\">\n",
              "\n",
              "  <svg xmlns=\"http://www.w3.org/2000/svg\" height=\"24px\"viewBox=\"0 0 24 24\"\n",
              "       width=\"24px\">\n",
              "    <path d=\"M0 0h24v24H0V0z\" fill=\"none\"/>\n",
              "    <path d=\"M18.56 5.44l.94 2.06.94-2.06 2.06-.94-2.06-.94-.94-2.06-.94 2.06-2.06.94zm-11 1L8.5 8.5l.94-2.06 2.06-.94-2.06-.94L8.5 2.5l-.94 2.06-2.06.94zm10 10l.94 2.06.94-2.06 2.06-.94-2.06-.94-.94-2.06-.94 2.06-2.06.94z\"/><path d=\"M17.41 7.96l-1.37-1.37c-.4-.4-.92-.59-1.43-.59-.52 0-1.04.2-1.43.59L10.3 9.45l-7.72 7.72c-.78.78-.78 2.05 0 2.83L4 21.41c.39.39.9.59 1.41.59.51 0 1.02-.2 1.41-.59l7.78-7.78 2.81-2.81c.8-.78.8-2.07 0-2.86zM5.41 20L4 18.59l7.72-7.72 1.47 1.35L5.41 20z\"/>\n",
              "  </svg>\n",
              "      </button>\n",
              "\n",
              "\n",
              "\n",
              "    <div id=\"df-2b8a1070-2c09-4aa5-9630-58b6b670245d\">\n",
              "      <button class=\"colab-df-quickchart\" onclick=\"quickchart('df-2b8a1070-2c09-4aa5-9630-58b6b670245d')\"\n",
              "              title=\"Suggest charts.\"\n",
              "              style=\"display:none;\">\n",
              "\n",
              "<svg xmlns=\"http://www.w3.org/2000/svg\" height=\"24px\"viewBox=\"0 0 24 24\"\n",
              "     width=\"24px\">\n",
              "    <g>\n",
              "        <path d=\"M19 3H5c-1.1 0-2 .9-2 2v14c0 1.1.9 2 2 2h14c1.1 0 2-.9 2-2V5c0-1.1-.9-2-2-2zM9 17H7v-7h2v7zm4 0h-2V7h2v10zm4 0h-2v-4h2v4z\"/>\n",
              "    </g>\n",
              "</svg>\n",
              "      </button>\n",
              "    </div>\n",
              "\n",
              "<style>\n",
              "  .colab-df-quickchart {\n",
              "    background-color: #E8F0FE;\n",
              "    border: none;\n",
              "    border-radius: 50%;\n",
              "    cursor: pointer;\n",
              "    display: none;\n",
              "    fill: #1967D2;\n",
              "    height: 32px;\n",
              "    padding: 0 0 0 0;\n",
              "    width: 32px;\n",
              "  }\n",
              "\n",
              "  .colab-df-quickchart:hover {\n",
              "    background-color: #E2EBFA;\n",
              "    box-shadow: 0px 1px 2px rgba(60, 64, 67, 0.3), 0px 1px 3px 1px rgba(60, 64, 67, 0.15);\n",
              "    fill: #174EA6;\n",
              "  }\n",
              "\n",
              "  [theme=dark] .colab-df-quickchart {\n",
              "    background-color: #3B4455;\n",
              "    fill: #D2E3FC;\n",
              "  }\n",
              "\n",
              "  [theme=dark] .colab-df-quickchart:hover {\n",
              "    background-color: #434B5C;\n",
              "    box-shadow: 0px 1px 3px 1px rgba(0, 0, 0, 0.15);\n",
              "    filter: drop-shadow(0px 1px 2px rgba(0, 0, 0, 0.3));\n",
              "    fill: #FFFFFF;\n",
              "  }\n",
              "</style>\n",
              "\n",
              "    <script>\n",
              "      async function quickchart(key) {\n",
              "        const containerElement = document.querySelector('#' + key);\n",
              "        const charts = await google.colab.kernel.invokeFunction(\n",
              "            'suggestCharts', [key], {});\n",
              "      }\n",
              "    </script>\n",
              "\n",
              "      <script>\n",
              "\n",
              "function displayQuickchartButton(domScope) {\n",
              "  let quickchartButtonEl =\n",
              "    domScope.querySelector('#df-2b8a1070-2c09-4aa5-9630-58b6b670245d button.colab-df-quickchart');\n",
              "  quickchartButtonEl.style.display =\n",
              "    google.colab.kernel.accessAllowed ? 'block' : 'none';\n",
              "}\n",
              "\n",
              "        displayQuickchartButton(document);\n",
              "      </script>\n",
              "      <style>\n",
              "    .colab-df-container {\n",
              "      display:flex;\n",
              "      flex-wrap:wrap;\n",
              "      gap: 12px;\n",
              "    }\n",
              "\n",
              "    .colab-df-convert {\n",
              "      background-color: #E8F0FE;\n",
              "      border: none;\n",
              "      border-radius: 50%;\n",
              "      cursor: pointer;\n",
              "      display: none;\n",
              "      fill: #1967D2;\n",
              "      height: 32px;\n",
              "      padding: 0 0 0 0;\n",
              "      width: 32px;\n",
              "    }\n",
              "\n",
              "    .colab-df-convert:hover {\n",
              "      background-color: #E2EBFA;\n",
              "      box-shadow: 0px 1px 2px rgba(60, 64, 67, 0.3), 0px 1px 3px 1px rgba(60, 64, 67, 0.15);\n",
              "      fill: #174EA6;\n",
              "    }\n",
              "\n",
              "    [theme=dark] .colab-df-convert {\n",
              "      background-color: #3B4455;\n",
              "      fill: #D2E3FC;\n",
              "    }\n",
              "\n",
              "    [theme=dark] .colab-df-convert:hover {\n",
              "      background-color: #434B5C;\n",
              "      box-shadow: 0px 1px 3px 1px rgba(0, 0, 0, 0.15);\n",
              "      filter: drop-shadow(0px 1px 2px rgba(0, 0, 0, 0.3));\n",
              "      fill: #FFFFFF;\n",
              "    }\n",
              "  </style>\n",
              "\n",
              "      <script>\n",
              "        const buttonEl =\n",
              "          document.querySelector('#df-143d8848-3afd-4138-a7aa-99290db5a318 button.colab-df-convert');\n",
              "        buttonEl.style.display =\n",
              "          google.colab.kernel.accessAllowed ? 'block' : 'none';\n",
              "\n",
              "        async function convertToInteractive(key) {\n",
              "          const element = document.querySelector('#df-143d8848-3afd-4138-a7aa-99290db5a318');\n",
              "          const dataTable =\n",
              "            await google.colab.kernel.invokeFunction('convertToInteractive',\n",
              "                                                     [key], {});\n",
              "          if (!dataTable) return;\n",
              "\n",
              "          const docLinkHtml = 'Like what you see? Visit the ' +\n",
              "            '<a target=\"_blank\" href=https://colab.research.google.com/notebooks/data_table.ipynb>data table notebook</a>'\n",
              "            + ' to learn more about interactive tables.';\n",
              "          element.innerHTML = '';\n",
              "          dataTable['output_type'] = 'display_data';\n",
              "          await google.colab.output.renderOutput(dataTable, element);\n",
              "          const docLink = document.createElement('div');\n",
              "          docLink.innerHTML = docLinkHtml;\n",
              "          element.appendChild(docLink);\n",
              "        }\n",
              "      </script>\n",
              "    </div>\n",
              "  </div>\n"
            ]
          },
          "metadata": {},
          "execution_count": 91
        }
      ]
    },
    {
      "cell_type": "markdown",
      "source": [
        "The model successfully extracted the `hurricane_name` and `hurricane_location` entities from the news articles with precise accuracy. However, it consistently labeled all four hurricanes as Category 1, which is incorrect.\n",
        "\n",
        "It could be fixed by customizing `PRE_PROMPT` to include better instructions and output format examples, thus guiding the model to provide more accurate results.\n",
        "\n",
        "Furthermore, we can also instruct the model to act as a Named Entity Recognition (NER) system, instructing it to simultaneously extract various entities such as hurricane name, location, category, number of deaths, number of injuries, or financial loss."
      ],
      "metadata": {
        "id": "tMm694cN-Aq3"
      }
    },
    {
      "cell_type": "markdown",
      "source": [
        "### Sample Named Entity Recognition Use-Case"
      ],
      "metadata": {
        "id": "5jEabRwQHqKz"
      }
    },
    {
      "cell_type": "code",
      "source": [
        "# Static pre-prompt to define bot behavior\n",
        "PRE_PROMPT = \"\"\"\n",
        "You are an intelligent Named Entity Recognition (NER) system. From the below news article on hurricane disaster, extract hurricane name, location, hurricane category, and number of deaths in the following output format:\n",
        "\n",
        "Do not generate any new information which is not available in the news article. If the user asks a question outside the scope of the news article, respond \"I don't know.\"\n",
        "\n",
        "News article:\\n\n",
        "\"\"\"\n",
        "#### Prompt that did not work ####\n",
        "\n",
        "# Entity definition:\n",
        "# 1. NAME: Extract the name of the hurricane from the news article. If there are no hurricanes mentioned, respond \"NA\". If the news article is unrelated to hurricane, respond \"Irrelevant News\".\n",
        "# 2. LOCATION: Extract the locations impacted by the hurricane in the news article. If there are no locations that were hit by hurricane, respond \"NA\". If the news article is unrelated to hurricane, respond \"Irrelevant News\".\n",
        "# 3. CATEGORY: Extract the category of the hurricane mentioned in the news article. If no category is mentioned, respond \"NA\". If the news article is unrelated to hurricane, respond \"Irrelevant News\".\n",
        "# 4. DEATHS: Extract the number of deaths due to the hurricane mentioned in the news article. If there are no deaths mentioned, responde \"0\". If the news article is unrelated to hurricane, respond \"Irrelevant News\".\n",
        "\n",
        "# Output format:\n",
        "# {{'NAME': [list of entities present], 'LOCATION': [list of entities present], 'CATEGORY': [list of entities present],'DEATHS': [list of entities present]}}"
      ],
      "metadata": {
        "id": "PWTYe_31_rJ_"
      },
      "execution_count": null,
      "outputs": []
    },
    {
      "cell_type": "code",
      "source": [
        "# Selecting a news body from the hurricane news dataset\n",
        "NEWS = news_df['news_body'][1]"
      ],
      "metadata": {
        "id": "fDHB2A2eBPZq"
      },
      "execution_count": null,
      "outputs": []
    },
    {
      "cell_type": "code",
      "source": [
        "# User question\n",
        "QUESTION = \"What is the hurricane name, location impacted by the hurricane, hurricane category, and number of deaths?\""
      ],
      "metadata": {
        "id": "2L_AxWv4BTKn"
      },
      "execution_count": null,
      "outputs": []
    },
    {
      "cell_type": "code",
      "source": [
        "prompt = prompt_template_generator(PRE_PROMPT, NEWS, QUESTION)"
      ],
      "metadata": {
        "id": "bgwix7tZBl9B"
      },
      "execution_count": null,
      "outputs": []
    },
    {
      "cell_type": "code",
      "source": [
        "print(prompt)"
      ],
      "metadata": {
        "colab": {
          "base_uri": "https://localhost:8080/"
        },
        "id": "8aehfb0vBq0U",
        "outputId": "cda2b08b-1072-4c96-eaf9-c5ea26371767"
      },
      "execution_count": null,
      "outputs": [
        {
          "output_type": "stream",
          "name": "stdout",
          "text": [
            "You are an intelligent Named Entity Recognition (NER) system. From the below news article on hurricane disaster, extract hurricane name, location, hurricane category, and number of deaths in the following output format:\n",
            "\n",
            "Do not generate any new information which is not available in the news article. If the user asks a question outside the scope of the news article, respond \"I don't know.\"\n",
            "\n",
            "News article:\n",
            "\n",
            "\n",
            "The death toll from Hurricane Ian has reportedly risen to nearly 100 in Florida as rescue personnel continue to search for survivors.\n",
            "\n",
            "Officials in the US state have come under fire as critics allege residents in some hard-hit areas did not receive enough advance warning to evacuate.\n",
            "\n",
            "More than half of the deaths recorded are in Lee County, where Ian made landfall as a Category 4 hurricane.\n",
            "\n",
            "President Joe Biden is expected to visit Florida on Wednesday.\n",
            "\n",
            "On Monday, Mr Biden visited Puerto Rico - which was struck by Hurricane Fiona just days before Ian struck Florida - where he promised $60m (£53m) in aid to help the US territory.\n",
            "\n",
            "\"We're going to make sure you get every single dollar promised,\" he said in the municipality of Ponce, parts of which were still without power.\n",
            "\n",
            "According to the BBC's US partner network CBS, the hurricane's death toll in Florida climbed to at least 99 on Monday night. Another four deaths have been confirmed in North Carolina.\n",
            "\n",
            "Florida officials said the latest death toll is at least 68. The figures differ as while local officials may report additional storm-related deaths, the medical examiner's officer is only attributing a death to the hurricane after an autopsy is performed.\n",
            "\n",
            "The majority of the deaths - 55 - have been reported in Lee County, which includes the hard-hit areas Fort Myers, Sanibel and Pine Island, Sheriff Carmine Marceno said at a news conference.\n",
            "\n",
            "Mr Marceno said access to Fort Myers Beach was being restricted to allow authorities to investigate deaths and to preserve potential crime scenes. He added that four arrests had been made after looting incidents were reported.\n",
            "\n",
            "On Friday, Florida governor Ron DeSantis described the county as \"ground zero\" for the hurricane.\n",
            "\n",
            "Confusion over death tolls is common in the wake of hurricanes. In 2020, for example, fewer than 20 deaths were reported from Hurricane Laura days after it made landfall in Louisiana - a figure which the National Hurricane Center later revised to 47.\n",
            "\n",
            "While the death toll from Hurricane Ian already makes it one of the deadliest hurricanes in recent memory, it still pales in comparison to 2005's Hurricane Katrina, which killed more than 1,800 people, and 2017's Hurricane Maria, which killed nearly 3,000.\n",
            "\n",
            "In the wake of the storm, officials in Lee County have faced questions about the timing of their evacuation order, which was issued on 27 September, less than 24 hours before Ian made landfall. Several other counties in the path of the incoming hurricane issued their own evacuation orders a day before.\n",
            "\n",
            "Local officials, as well as Florida's Governor Ron DeSantis, have defended Lee County's preparations for the hurricane.\n",
            "\n",
            "\"Everyone wants to focus on a plan that might have been done differently,\" Mr Marceno said on Sunday. \"I stand 100% with my county commissioners, my county manager. We did what we had to do at the exact same time. I wouldn't have changed anything.\"\n",
            "\n",
            "A 2015 planning document on the official website of Lee County's government notes that \"due to our large population and limited system, Southwest Florida is the hardest place in the country to evacuate in a disaster.\" The document adds that evacuation decision-making procedures consider \"evacuation risks, the disruption to both the lives of our residents/visitors, businesses and the potential magnitude of the impending threat\".\n",
            "\n",
            "The death toll cited by Florida officials does not include at least 16 Cuban migrants who remain missing after their boat capsized off the state's coastline during the hurricane. Of the 27 people on board, nine were rescued by the US Coast Guard and two managed to swim ashore at Stock Island, near Key West, The bodies of two more who died have been recovered. The Coast Guard has suspended the search for those still missing.\n",
            "\n",
            "Approximately 430,000 homes and businesses remain without power across the state, according to data from poweroutage.us.\n",
            "\n",
            "The utility company with the largest number of outages, Florida Power & Light Co, said that the majority of customers will have their power restored by 7 October, but that storm damage has made some properties \"unable to safely accept power\".\n",
            "\n",
            "While officials are still assessing the damage caused by the hurricane across the state, experts have warned that the economic cost could ultimately rise to tens of billions of dollars. So far, insurers have reported about $1.44bn (£1.28bn) in preliminary claims.\n",
            "\n",
            "A preliminary forecast from data firm Enki Research published on 1 October estimated that total damages will amount to at least $66bn, but could rise as high as $75bn.\n",
            "\n",
            "Q-A with user:\n",
            "\n",
            "Human: What is the hurricane name, location impacted by the hurricane, hurricane category, and number of deaths?\n",
            "AI:\n"
          ]
        }
      ]
    },
    {
      "cell_type": "code",
      "source": [
        "response = llm(prompt)"
      ],
      "metadata": {
        "id": "lid9NoUYBvzg"
      },
      "execution_count": null,
      "outputs": []
    },
    {
      "cell_type": "code",
      "source": [
        "# NER output\n",
        "print(response)"
      ],
      "metadata": {
        "colab": {
          "base_uri": "https://localhost:8080/"
        },
        "id": "JMEbzX_QBxh7",
        "outputId": "dc88ab4b-8e56-4c4d-b7d7-802de11bda62"
      },
      "execution_count": null,
      "outputs": [
        {
          "output_type": "stream",
          "name": "stdout",
          "text": [
            " The hurricane name is Hurricane Ian, the location impacted by the hurricane is Florida, and the hurricane category is Category 4. As of now, there are 99 deaths reported in Florida.\n"
          ]
        }
      ]
    },
    {
      "cell_type": "markdown",
      "source": [
        "After conducting multiple tests using various prompts, the model demonstrated the ability to accurately recognize the specified entities in a single attempt. To enhance the output format, adjustments can be made to display only the identified entities while omitting other unnecessary information."
      ],
      "metadata": {
        "id": "RTMANLKHH9Yz"
      }
    },
    {
      "cell_type": "markdown",
      "source": [
        "### Conversational Chatbot with Memory\n",
        "\n",
        "In the subsequent cells, I have utilized the langchain` framework to interact with the LLM in a conversational manner, resembling a chatbot similar to ChatGPT. This conversational chatbot could be used to ask questions regarding news articles or any unstructured text in a general context. Additionally, it can also be instructed to exhibit behaviors, such as impersonating a recruiter or a developer, and provide relevant solutions to queries based on those predefined characteristics.\n",
        "\n",
        "To maintain contextual coherence during conversations, I have utilized the `ConversationBufferWindowMemory` class, which allows retaining recent messages as a conversation history. This conversation history, acting as a memory, is incorporated into the chain during each query, ensuring that the chatbot comprehends and responds appropriately based on the preceding interactions."
      ],
      "metadata": {
        "id": "i5seX_K-H3Gc"
      }
    },
    {
      "cell_type": "code",
      "source": [
        "# Initializing conversation chain\n",
        "chain = ConversationChain(llm = llm)"
      ],
      "metadata": {
        "id": "zoGYAUAZ3WsN"
      },
      "execution_count": null,
      "outputs": []
    },
    {
      "cell_type": "code",
      "source": [
        "# Default prompt template\n",
        "print(chain.prompt.template)"
      ],
      "metadata": {
        "colab": {
          "base_uri": "https://localhost:8080/"
        },
        "id": "kycDenNoMVbp",
        "outputId": "89a402f8-536e-4949-a677-23865b6de760"
      },
      "execution_count": null,
      "outputs": [
        {
          "output_type": "stream",
          "name": "stdout",
          "text": [
            "The following is a friendly conversation between a human and an AI. The AI is talkative and provides lots of specific details from its context. If the AI does not know the answer to a question, it truthfully says it does not know.\n",
            "\n",
            "Current conversation:\n",
            "{history}\n",
            "Human: {input}\n",
            "AI:\n"
          ]
        }
      ]
    },
    {
      "cell_type": "code",
      "source": [
        "NEWS = \"\"\"\n",
        "An earthquake of magnitude 3.2 on the Richter scale hit Uttarakhand's Pithoragarh on Sunday evening, according to the National Center for Seismology (NCS).\n",
        "\n",
        "According to the NCS, the earthquake occurred at 6.34 pm at a depth of 5 kilometres.\n",
        "\n",
        "\"Earthquake of Magnitude:3.2, Occurred on 23-07-2023, 18:34:39 IST, Lat: 30.58 & Long: 80.18, Depth: 5 Km, Region: Pithoragarh, Uttarakhand, India,\" the NCS tweeted.\n",
        "\n",
        "Earlier in the day, the National Centre for Seismology reported that an earthquake of magnitude 3.3 on the Richter scale hit Arunachal Pradesh's Tawang on Sunday morning.\n",
        "\n",
        "The earthquake occurred at 6.56 am. According to the NCS, the earthquake occurred at a depth of 5 kilometres.\n",
        "\n",
        "\"Earthquake of Magnitude:3.3, Occurred on 22-07-2023, 06:56:08 IST, Lat: 27.44 & Long: 92.51, Depth: 5 Km, Location: Tawang, Arunachal Pradesh, India,\" the NCS tweeted.\n",
        "\"\"\""
      ],
      "metadata": {
        "id": "v6V9QsL3MtRU"
      },
      "execution_count": null,
      "outputs": []
    },
    {
      "cell_type": "code",
      "source": [
        "# Custom prompt template\n",
        "template = \"\"\"\n",
        "The following is a news article provided by the human. You are an intelligent AI that can answer questions based on the news article. Do not generate any new information that is not present in the news article. Keep your answers short and concise. If you don't know the answer, respond \"I don't know.\"\n",
        "\n",
        "News article:\n",
        "\"\"\" + NEWS + \"\"\"\n",
        "Current conversation:\n",
        "{history}\n",
        "Human: {input}\n",
        "AI:\"\"\".strip()\n",
        "\n",
        "# Generating prompt template using Langchain\n",
        "prompt = PromptTemplate(input_variables = [\"history\", \"input\"], template = template)"
      ],
      "metadata": {
        "id": "JJhGtqHAMxzB"
      },
      "execution_count": null,
      "outputs": []
    },
    {
      "cell_type": "code",
      "source": [
        "print(prompt)"
      ],
      "metadata": {
        "colab": {
          "base_uri": "https://localhost:8080/"
        },
        "id": "qbu82VGSM4sN",
        "outputId": "ab6a6cbc-d761-472b-f4f3-b86ce59f6938"
      },
      "execution_count": null,
      "outputs": [
        {
          "output_type": "stream",
          "name": "stdout",
          "text": [
            "input_variables=['history', 'input'] output_parser=None partial_variables={} template='\\nThe following is a news article provided by the human. You are an intelligent AI that can answer questions based on the news article. Do not generate any new information that is not present in the news article. Keep your answers short and concise. If you don\\'t know the answer, respond \"I don\\'t know.\"\\n\\nNews article:\\n\\nAn earthquake of magnitude 3.2 on the Richter scale hit Uttarakhand\\'s Pithoragarh on Sunday evening, according to the National Center for Seismology (NCS). \\n\\nAccording to the NCS, the earthquake occurred at 6.34 pm at a depth of 5 kilometres. \\n\\n\"Earthquake of Magnitude:3.2, Occurred on 23-07-2023, 18:34:39 IST, Lat: 30.58 & Long: 80.18, Depth: 5 Km, Region: Pithoragarh, Uttarakhand, India,\" the NCS tweeted. \\n\\nEarlier in the day, the National Centre for Seismology reported that an earthquake of magnitude 3.3 on the Richter scale hit Arunachal Pradesh\\'s Tawang on Sunday morning. \\n\\nThe earthquake occurred at 6.56 am. According to the NCS, the earthquake occurred at a depth of 5 kilometres. \\n\\n\"Earthquake of Magnitude:3.3, Occurred on 22-07-2023, 06:56:08 IST, Lat: 27.44 & Long: 92.51, Depth: 5 Km, Location: Tawang, Arunachal Pradesh, India,\" the NCS tweeted.\\nCurrent conversation:\\n{history}\\nHuman: {input}\\nAI:' template_format='f-string' validate_template=True\n"
          ]
        }
      ]
    },
    {
      "cell_type": "code",
      "source": [
        "# Creating an output parser to clean unwanted tokens such as the trailing \"\\User\" string from the model response\n",
        "class CleanupOutputParser(BaseOutputParser):\n",
        "    def parse(self, text: str) -> str:\n",
        "        user_pattern = r\"\\nUser\"\n",
        "        text = re.sub(user_pattern, \"\", text)\n",
        "        human_pattern = r\"\\nHuman:\"\n",
        "        text = re.sub(human_pattern, \"\", text)\n",
        "        ai_pattern = r\"\\nAI:\"\n",
        "        return re.sub(ai_pattern, \"\", text).strip()\n",
        "\n",
        "    @property\n",
        "    def _type(self) -> str:\n",
        "        return \"output_parser\""
      ],
      "metadata": {
        "id": "tBJm5PzD9TYK"
      },
      "execution_count": null,
      "outputs": []
    },
    {
      "cell_type": "code",
      "source": [
        "# Creating memory object to hold last k (5) messages as memory\n",
        "memory = ConversationBufferWindowMemory(\n",
        "    memory_key = \"history\", k = 5, return_only_outputs = True\n",
        ")"
      ],
      "metadata": {
        "id": "0jElKSHlOt0h"
      },
      "execution_count": null,
      "outputs": []
    },
    {
      "cell_type": "code",
      "source": [
        "# Langchain pipeline\n",
        "chain = ConversationChain(\n",
        "    llm = llm,\n",
        "    memory = memory,\n",
        "    prompt = prompt,\n",
        "    output_parser = CleanupOutputParser(),\n",
        "    verbose = True,\n",
        ")"
      ],
      "metadata": {
        "id": "AKKnAGpe9cjS"
      },
      "execution_count": null,
      "outputs": []
    },
    {
      "cell_type": "code",
      "source": [
        "# Q&A chatbot response\n",
        "text = \"\"\"\n",
        "Can you summarize the news in one sentence?\n",
        "\"\"\".strip()\n",
        "res = chain.predict(input = text)\n",
        "print(res)"
      ],
      "metadata": {
        "id": "M48QC0aA9evX",
        "colab": {
          "base_uri": "https://localhost:8080/"
        },
        "outputId": "c262333a-4fcb-413a-f3ab-6320022ecf72"
      },
      "execution_count": null,
      "outputs": [
        {
          "output_type": "stream",
          "name": "stdout",
          "text": [
            "\n",
            "\n",
            "\u001b[1m> Entering new ConversationChain chain...\u001b[0m\n",
            "Prompt after formatting:\n",
            "\u001b[32;1m\u001b[1;3m\n",
            "The following is a news article provided by the human. You are an intelligent AI that can answer questions based on the news article. Do not generate any new information that is not present in the news article. Keep your answers short and concise. If you don't know the answer, respond \"I don't know.\"\n",
            "\n",
            "News article:\n",
            "\n",
            "An earthquake of magnitude 3.2 on the Richter scale hit Uttarakhand's Pithoragarh on Sunday evening, according to the National Center for Seismology (NCS). \n",
            "\n",
            "According to the NCS, the earthquake occurred at 6.34 pm at a depth of 5 kilometres. \n",
            "\n",
            "\"Earthquake of Magnitude:3.2, Occurred on 23-07-2023, 18:34:39 IST, Lat: 30.58 & Long: 80.18, Depth: 5 Km, Region: Pithoragarh, Uttarakhand, India,\" the NCS tweeted. \n",
            "\n",
            "Earlier in the day, the National Centre for Seismology reported that an earthquake of magnitude 3.3 on the Richter scale hit Arunachal Pradesh's Tawang on Sunday morning. \n",
            "\n",
            "The earthquake occurred at 6.56 am. According to the NCS, the earthquake occurred at a depth of 5 kilometres. \n",
            "\n",
            "\"Earthquake of Magnitude:3.3, Occurred on 22-07-2023, 06:56:08 IST, Lat: 27.44 & Long: 92.51, Depth: 5 Km, Location: Tawang, Arunachal Pradesh, India,\" the NCS tweeted.\n",
            "Current conversation:\n",
            "\n",
            "Human: Can you summarize the news in one sentence?\n",
            "AI:\u001b[0m\n",
            "\n",
            "\u001b[1m> Finished chain.\u001b[0m\n",
            "An earthquake of magnitudes 3.2 and 3.3 struck Uttarakhand and Arunachal Pradesh respectively on July 23rd, 2023.\n"
          ]
        }
      ]
    },
    {
      "cell_type": "code",
      "source": [
        "text = \"What was the location of the earthquake?\"\n",
        "res = chain.predict(input = text)\n",
        "print(res)"
      ],
      "metadata": {
        "id": "IDIwecCf9jDQ",
        "colab": {
          "base_uri": "https://localhost:8080/"
        },
        "outputId": "ca7b851d-a37d-45bb-95e2-1df6e248e3e6"
      },
      "execution_count": null,
      "outputs": [
        {
          "output_type": "stream",
          "name": "stdout",
          "text": [
            "\n",
            "\n",
            "\u001b[1m> Entering new ConversationChain chain...\u001b[0m\n",
            "Prompt after formatting:\n",
            "\u001b[32;1m\u001b[1;3m\n",
            "The following is a news article provided by the human. You are an intelligent AI that can answer questions based on the news article. Do not generate any new information that is not present in the news article. Keep your answers short and concise. If you don't know the answer, respond \"I don't know.\"\n",
            "\n",
            "News article:\n",
            "\n",
            "An earthquake of magnitude 3.2 on the Richter scale hit Uttarakhand's Pithoragarh on Sunday evening, according to the National Center for Seismology (NCS). \n",
            "\n",
            "According to the NCS, the earthquake occurred at 6.34 pm at a depth of 5 kilometres. \n",
            "\n",
            "\"Earthquake of Magnitude:3.2, Occurred on 23-07-2023, 18:34:39 IST, Lat: 30.58 & Long: 80.18, Depth: 5 Km, Region: Pithoragarh, Uttarakhand, India,\" the NCS tweeted. \n",
            "\n",
            "Earlier in the day, the National Centre for Seismology reported that an earthquake of magnitude 3.3 on the Richter scale hit Arunachal Pradesh's Tawang on Sunday morning. \n",
            "\n",
            "The earthquake occurred at 6.56 am. According to the NCS, the earthquake occurred at a depth of 5 kilometres. \n",
            "\n",
            "\"Earthquake of Magnitude:3.3, Occurred on 22-07-2023, 06:56:08 IST, Lat: 27.44 & Long: 92.51, Depth: 5 Km, Location: Tawang, Arunachal Pradesh, India,\" the NCS tweeted.\n",
            "Current conversation:\n",
            "Human: Can you summarize the news in one sentence?\n",
            "AI: An earthquake of magnitudes 3.2 and 3.3 struck Uttarakhand and Arunachal Pradesh respectively on July 23rd, 2023.\n",
            "Human: What was the location of the earthquake?\n",
            "AI:\u001b[0m\n",
            "\n",
            "\u001b[1m> Finished chain.\u001b[0m\n",
            "The earthquake occurred in Pithoragarh, Uttarakhand and Arunachal Pradesh.\n"
          ]
        }
      ]
    },
    {
      "cell_type": "code",
      "source": [
        "text = \"Which city in Uttarakhand?\"\n",
        "res = chain.predict(input = text)\n",
        "print(res)"
      ],
      "metadata": {
        "id": "nMdiTr2W9pWy",
        "colab": {
          "base_uri": "https://localhost:8080/"
        },
        "outputId": "66ab0622-46d6-40c1-8d48-29e1d7cb4e55"
      },
      "execution_count": null,
      "outputs": [
        {
          "output_type": "stream",
          "name": "stdout",
          "text": [
            "\n",
            "\n",
            "\u001b[1m> Entering new ConversationChain chain...\u001b[0m\n",
            "Prompt after formatting:\n",
            "\u001b[32;1m\u001b[1;3m\n",
            "The following is a news article provided by the human. You are an intelligent AI that can answer questions based on the news article. Do not generate any new information that is not present in the news article. Keep your answers short and concise. If you don't know the answer, respond \"I don't know.\"\n",
            "\n",
            "News article:\n",
            "\n",
            "An earthquake of magnitude 3.2 on the Richter scale hit Uttarakhand's Pithoragarh on Sunday evening, according to the National Center for Seismology (NCS). \n",
            "\n",
            "According to the NCS, the earthquake occurred at 6.34 pm at a depth of 5 kilometres. \n",
            "\n",
            "\"Earthquake of Magnitude:3.2, Occurred on 23-07-2023, 18:34:39 IST, Lat: 30.58 & Long: 80.18, Depth: 5 Km, Region: Pithoragarh, Uttarakhand, India,\" the NCS tweeted. \n",
            "\n",
            "Earlier in the day, the National Centre for Seismology reported that an earthquake of magnitude 3.3 on the Richter scale hit Arunachal Pradesh's Tawang on Sunday morning. \n",
            "\n",
            "The earthquake occurred at 6.56 am. According to the NCS, the earthquake occurred at a depth of 5 kilometres. \n",
            "\n",
            "\"Earthquake of Magnitude:3.3, Occurred on 22-07-2023, 06:56:08 IST, Lat: 27.44 & Long: 92.51, Depth: 5 Km, Location: Tawang, Arunachal Pradesh, India,\" the NCS tweeted.\n",
            "Current conversation:\n",
            "Human: Can you summarize the news in one sentence?\n",
            "AI: An earthquake of magnitudes 3.2 and 3.3 struck Uttarakhand and Arunachal Pradesh respectively on July 23rd, 2023.\n",
            "Human: What was the location of the earthquake?\n",
            "AI: The earthquake occurred in Pithoragarh, Uttarakhand and Arunachal Pradesh.\n",
            "Human: Which city in Uttarakhand?\n",
            "AI:\u001b[0m\n",
            "\n",
            "\u001b[1m> Finished chain.\u001b[0m\n",
            "Pithoragarh is a city located in the northern part of Uttarakhand state in India.\n"
          ]
        }
      ]
    },
    {
      "cell_type": "code",
      "source": [
        "text = \"\"\"\n",
        "At what time did the earthquake hit Pithoragarh?\n",
        "\"\"\".strip()\n",
        "res = chain.predict(input = text)\n",
        "print(res)"
      ],
      "metadata": {
        "id": "4tFBSeVT9sCd",
        "colab": {
          "base_uri": "https://localhost:8080/"
        },
        "outputId": "5c04a4bf-96b2-4b87-9fb5-3b00c737a69f"
      },
      "execution_count": null,
      "outputs": [
        {
          "output_type": "stream",
          "name": "stdout",
          "text": [
            "\n",
            "\n",
            "\u001b[1m> Entering new ConversationChain chain...\u001b[0m\n",
            "Prompt after formatting:\n",
            "\u001b[32;1m\u001b[1;3m\n",
            "The following is a news article provided by the human. You are an intelligent AI that can answer questions based on the news article. Do not generate any new information that is not present in the news article. Keep your answers short and concise. If you don't know the answer, respond \"I don't know.\"\n",
            "\n",
            "News article:\n",
            "\n",
            "An earthquake of magnitude 3.2 on the Richter scale hit Uttarakhand's Pithoragarh on Sunday evening, according to the National Center for Seismology (NCS). \n",
            "\n",
            "According to the NCS, the earthquake occurred at 6.34 pm at a depth of 5 kilometres. \n",
            "\n",
            "\"Earthquake of Magnitude:3.2, Occurred on 23-07-2023, 18:34:39 IST, Lat: 30.58 & Long: 80.18, Depth: 5 Km, Region: Pithoragarh, Uttarakhand, India,\" the NCS tweeted. \n",
            "\n",
            "Earlier in the day, the National Centre for Seismology reported that an earthquake of magnitude 3.3 on the Richter scale hit Arunachal Pradesh's Tawang on Sunday morning. \n",
            "\n",
            "The earthquake occurred at 6.56 am. According to the NCS, the earthquake occurred at a depth of 5 kilometres. \n",
            "\n",
            "\"Earthquake of Magnitude:3.3, Occurred on 22-07-2023, 06:56:08 IST, Lat: 27.44 & Long: 92.51, Depth: 5 Km, Location: Tawang, Arunachal Pradesh, India,\" the NCS tweeted.\n",
            "Current conversation:\n",
            "Human: Can you summarize the news in one sentence?\n",
            "AI: An earthquake of magnitudes 3.2 and 3.3 struck Uttarakhand and Arunachal Pradesh respectively on July 23rd, 2023.\n",
            "Human: What was the location of the earthquake?\n",
            "AI: The earthquake occurred in Pithoragarh, Uttarakhand and Arunachal Pradesh.\n",
            "Human: Which city in Uttarakhand?\n",
            "AI: Pithoragarh is a city located in the northern part of Uttarakhand state in India.\n",
            "Human: At what time did the earthquake hit Pithoragarh?\n",
            "AI:\u001b[0m\n",
            "\n",
            "\u001b[1m> Finished chain.\u001b[0m\n",
            "The earthquake occurred at 6.34 pm on July 23rd, 2023.\n"
          ]
        }
      ]
    },
    {
      "cell_type": "code",
      "source": [
        "text = \"\"\"\n",
        "At what time did earthquake hit Arunachal Pradesh?\n",
        "\"\"\".strip()\n",
        "res = chain.predict(input = text)\n",
        "print(res)"
      ],
      "metadata": {
        "id": "IRqnCNjX9wEz",
        "colab": {
          "base_uri": "https://localhost:8080/"
        },
        "outputId": "5a34892c-dd55-4403-8734-6c5d43489d82"
      },
      "execution_count": null,
      "outputs": [
        {
          "output_type": "stream",
          "name": "stdout",
          "text": [
            "\n",
            "\n",
            "\u001b[1m> Entering new ConversationChain chain...\u001b[0m\n",
            "Prompt after formatting:\n",
            "\u001b[32;1m\u001b[1;3m\n",
            "The following is a news article provided by the human. You are an intelligent AI that can answer questions based on the news article. Do not generate any new information that is not present in the news article. Keep your answers short and concise. If you don't know the answer, respond \"I don't know.\"\n",
            "\n",
            "News article:\n",
            "\n",
            "An earthquake of magnitude 3.2 on the Richter scale hit Uttarakhand's Pithoragarh on Sunday evening, according to the National Center for Seismology (NCS). \n",
            "\n",
            "According to the NCS, the earthquake occurred at 6.34 pm at a depth of 5 kilometres. \n",
            "\n",
            "\"Earthquake of Magnitude:3.2, Occurred on 23-07-2023, 18:34:39 IST, Lat: 30.58 & Long: 80.18, Depth: 5 Km, Region: Pithoragarh, Uttarakhand, India,\" the NCS tweeted. \n",
            "\n",
            "Earlier in the day, the National Centre for Seismology reported that an earthquake of magnitude 3.3 on the Richter scale hit Arunachal Pradesh's Tawang on Sunday morning. \n",
            "\n",
            "The earthquake occurred at 6.56 am. According to the NCS, the earthquake occurred at a depth of 5 kilometres. \n",
            "\n",
            "\"Earthquake of Magnitude:3.3, Occurred on 22-07-2023, 06:56:08 IST, Lat: 27.44 & Long: 92.51, Depth: 5 Km, Location: Tawang, Arunachal Pradesh, India,\" the NCS tweeted.\n",
            "Current conversation:\n",
            "Human: Can you summarize the news in one sentence?\n",
            "AI: An earthquake of magnitudes 3.2 and 3.3 struck Uttarakhand and Arunachal Pradesh respectively on July 23rd, 2023.\n",
            "Human: What was the location of the earthquake?\n",
            "AI: The earthquake occurred in Pithoragarh, Uttarakhand and Arunachal Pradesh.\n",
            "Human: Which city in Uttarakhand?\n",
            "AI: Pithoragarh is a city located in the northern part of Uttarakhand state in India.\n",
            "Human: At what time did the earthquake hit Pithoragarh?\n",
            "AI: The earthquake occurred at 6.34 pm on July 23rd, 2023.\n",
            "Human: At what time did earthquake hit Arunachal Pradesh?\n",
            "AI:\u001b[0m\n",
            "\n",
            "\u001b[1m> Finished chain.\u001b[0m\n",
            "The earthquake occurred at 6.56 am on July 22nd, 2023.\n"
          ]
        }
      ]
    },
    {
      "cell_type": "code",
      "source": [
        "text = \"\"\"\n",
        "What was the depth of earthquake at Arunachal Pradesh?\n",
        "\"\"\".strip()\n",
        "res = chain.predict(input = text)\n",
        "print(res)"
      ],
      "metadata": {
        "id": "0NfcY1kN91vd",
        "colab": {
          "base_uri": "https://localhost:8080/"
        },
        "outputId": "466d0954-8ccd-4579-8fe1-decd8c3a4a8c"
      },
      "execution_count": null,
      "outputs": [
        {
          "output_type": "stream",
          "name": "stdout",
          "text": [
            "\n",
            "\n",
            "\u001b[1m> Entering new ConversationChain chain...\u001b[0m\n",
            "Prompt after formatting:\n",
            "\u001b[32;1m\u001b[1;3m\n",
            "The following is a news article provided by the human. You are an intelligent AI that can answer questions based on the news article. Do not generate any new information that is not present in the news article. Keep your answers short and concise. If you don't know the answer, respond \"I don't know.\"\n",
            "\n",
            "News article:\n",
            "\n",
            "An earthquake of magnitude 3.2 on the Richter scale hit Uttarakhand's Pithoragarh on Sunday evening, according to the National Center for Seismology (NCS). \n",
            "\n",
            "According to the NCS, the earthquake occurred at 6.34 pm at a depth of 5 kilometres. \n",
            "\n",
            "\"Earthquake of Magnitude:3.2, Occurred on 23-07-2023, 18:34:39 IST, Lat: 30.58 & Long: 80.18, Depth: 5 Km, Region: Pithoragarh, Uttarakhand, India,\" the NCS tweeted. \n",
            "\n",
            "Earlier in the day, the National Centre for Seismology reported that an earthquake of magnitude 3.3 on the Richter scale hit Arunachal Pradesh's Tawang on Sunday morning. \n",
            "\n",
            "The earthquake occurred at 6.56 am. According to the NCS, the earthquake occurred at a depth of 5 kilometres. \n",
            "\n",
            "\"Earthquake of Magnitude:3.3, Occurred on 22-07-2023, 06:56:08 IST, Lat: 27.44 & Long: 92.51, Depth: 5 Km, Location: Tawang, Arunachal Pradesh, India,\" the NCS tweeted.\n",
            "Current conversation:\n",
            "Human: Can you summarize the news in one sentence?\n",
            "AI: An earthquake of magnitudes 3.2 and 3.3 struck Uttarakhand and Arunachal Pradesh respectively on July 23rd, 2023.\n",
            "Human: What was the location of the earthquake?\n",
            "AI: The earthquake occurred in Pithoragarh, Uttarakhand and Arunachal Pradesh.\n",
            "Human: Which city in Uttarakhand?\n",
            "AI: Pithoragarh is a city located in the northern part of Uttarakhand state in India.\n",
            "Human: At what time did the earthquake hit Pithoragarh?\n",
            "AI: The earthquake occurred at 6.34 pm on July 23rd, 2023.\n",
            "Human: At what time did earthquake hit Arunachal Pradesh?\n",
            "AI: The earthquake occurred at 6.56 am on July 22nd, 2023.\n",
            "Human: What was the depth of earthquake at Arunachal Pradesh?\n",
            "AI:\u001b[0m\n",
            "\n",
            "\u001b[1m> Finished chain.\u001b[0m\n",
            "The earthquake occurred at a depth of 5 kilometres.\n"
          ]
        }
      ]
    },
    {
      "cell_type": "code",
      "source": [
        "text = \"\"\"\n",
        "How many people were affected in Uttarakhand?\n",
        "\"\"\".strip()\n",
        "res = chain.predict(input = text)\n",
        "print(res)"
      ],
      "metadata": {
        "id": "sW-D7YUB-G-V",
        "colab": {
          "base_uri": "https://localhost:8080/"
        },
        "outputId": "c4d4d031-fa17-46a3-e1ae-d02dfc05b665"
      },
      "execution_count": null,
      "outputs": [
        {
          "output_type": "stream",
          "name": "stdout",
          "text": [
            "\n",
            "\n",
            "\u001b[1m> Entering new ConversationChain chain...\u001b[0m\n",
            "Prompt after formatting:\n",
            "\u001b[32;1m\u001b[1;3m\n",
            "The following is a news article provided by the human. You are an intelligent AI that can answer questions based on the news article. Do not generate any new information that is not present in the news article. Keep your answers short and concise. If you don't know the answer, respond \"I don't know.\"\n",
            "\n",
            "News article:\n",
            "\n",
            "An earthquake of magnitude 3.2 on the Richter scale hit Uttarakhand's Pithoragarh on Sunday evening, according to the National Center for Seismology (NCS). \n",
            "\n",
            "According to the NCS, the earthquake occurred at 6.34 pm at a depth of 5 kilometres. \n",
            "\n",
            "\"Earthquake of Magnitude:3.2, Occurred on 23-07-2023, 18:34:39 IST, Lat: 30.58 & Long: 80.18, Depth: 5 Km, Region: Pithoragarh, Uttarakhand, India,\" the NCS tweeted. \n",
            "\n",
            "Earlier in the day, the National Centre for Seismology reported that an earthquake of magnitude 3.3 on the Richter scale hit Arunachal Pradesh's Tawang on Sunday morning. \n",
            "\n",
            "The earthquake occurred at 6.56 am. According to the NCS, the earthquake occurred at a depth of 5 kilometres. \n",
            "\n",
            "\"Earthquake of Magnitude:3.3, Occurred on 22-07-2023, 06:56:08 IST, Lat: 27.44 & Long: 92.51, Depth: 5 Km, Location: Tawang, Arunachal Pradesh, India,\" the NCS tweeted.\n",
            "Current conversation:\n",
            "Human: What was the location of the earthquake?\n",
            "AI: The earthquake occurred in Pithoragarh, Uttarakhand and Arunachal Pradesh.\n",
            "Human: Which city in Uttarakhand?\n",
            "AI: Pithoragarh is a city located in the northern part of Uttarakhand state in India.\n",
            "Human: At what time did the earthquake hit Pithoragarh?\n",
            "AI: The earthquake occurred at 6.34 pm on July 23rd, 2023.\n",
            "Human: At what time did earthquake hit Arunachal Pradesh?\n",
            "AI: The earthquake occurred at 6.56 am on July 22nd, 2023.\n",
            "Human: What was the depth of earthquake at Arunachal Pradesh?\n",
            "AI: The earthquake occurred at a depth of 5 kilometres.\n",
            "Human: How many people were affected in Uttarakhand?\n",
            "AI:\u001b[0m\n",
            "\n",
            "\u001b[1m> Finished chain.\u001b[0m\n",
            "There were no reports of casualties or significant damage to infrastructure in Uttarakhand as a result of the earthquake.\n"
          ]
        }
      ]
    },
    {
      "cell_type": "markdown",
      "source": [
        "The chatbot demonstrates exceptional proficiency in maintaining contextual understanding and providing relevant responses to user queries related to news articles. These Large Language Model (LLM)-driven chatbots exhibit the potential for seamless integration with expansive analytical systems and data warehouses containing both structured and unstructured data. This integration would empower data professionals and other stakeholders to interact with these systems using natural language, enabling them to make complex queries in a more human-like manner."
      ],
      "metadata": {
        "id": "DYvUX3WWQokq"
      }
    },
    {
      "cell_type": "markdown",
      "source": [
        "**References: Abhishek Thakur, James Briggs, Venelin Valkov**"
      ],
      "metadata": {
        "id": "Yoble9nWj1dO"
      }
    }
  ]
}